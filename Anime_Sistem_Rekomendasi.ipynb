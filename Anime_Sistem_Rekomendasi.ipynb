{
  "cells": [
    {
      "cell_type": "markdown",
      "metadata": {
        "id": "6C-kL7o7J85o"
      },
      "source": [
        "# Anime Recommendation System: From Data Kaggle"
      ]
    },
    {
      "cell_type": "markdown",
      "metadata": {
        "id": "_v0e3GmUKabq"
      },
      "source": [
        "# Pendahuluan"
      ]
    },
    {
      "cell_type": "markdown",
      "metadata": {
        "id": "9dLhLpWlKg4H"
      },
      "source": [
        "Analisis ini berfokus pada sektor hiburan dengan tujuan mengembangkan sebuah model machine learning yang dapat diaplikasikan sebagai sistem rekomendasi anime. Model tersebut dirancang untuk memberikan rekomendasi anime yang sesuai dengan preferensi pengguna berdasarkan data yang dianalisis.\n",
        "\n",
        "Dataset yang digunakan dalam proyek ini meliputi:\n",
        "\n",
        "* **Dataset Anime:** [Anime Recommendation Database 2020](https://www.kaggle.com/datasets/hernan4444/anime-recommendation-database-2020?select=anime.csv)\n",
        "* **Dataset Rating:** [MyAnimeList Dataset Animes Profiles Reviews](https://www.kaggle.com/datasets/marlesson/myanimelist-dataset-animes-profiles-reviews)\n",
        "\n",
        "---\n",
        "**Notebook Proyek Sistem Rekomendasi Anime**\n"
      ]
    },
    {
      "cell_type": "markdown",
      "metadata": {
        "id": "U3E-bC0OLmM4"
      },
      "source": [
        "# Cell 1: Environment Setup & Dependencies"
      ]
    },
    {
      "cell_type": "markdown",
      "metadata": {
        "id": "4Rmu-0ECLqM1"
      },
      "source": [
        "### Penjelasan Proses:\n",
        "- **Instalasi Library**: Melakukan instalasi ulang numpy dan scikit-surprise untuk menghindari konflik versi yang sering terjadi dalam lingkungan Colab\n",
        "- **Import Dependencies**: Mengimpor semua library yang diperlukan termasuk TensorFlow untuk deep learning, Sklearn untuk machine learning tradisional, dan Surprise untuk collaborative filtering\n",
        "- **Setup Visualisasi**: Konfigurasi Bokeh untuk membuat visualisasi interaktif\n"
      ]
    },
    {
      "cell_type": "code",
      "source": [
        "from sklearn.model_selection import train_test_split"
      ],
      "metadata": {
        "id": "O-aCVyfY0_Tz"
      },
      "execution_count": 1,
      "outputs": []
    },
    {
      "cell_type": "code",
      "source": [
        "# Clean slate approach\n",
        "!pip uninstall numpy scikit-surprise surprise -y\n",
        "!pip install \"numpy<2.0\"\n",
        "!pip install scikit-surprise\n",
        "# wajib restart setelah jalanin cell ini"
      ],
      "metadata": {
        "colab": {
          "base_uri": "https://localhost:8080/"
        },
        "id": "tUzPiknW0kXE",
        "outputId": "387453ca-afa5-469e-bd01-ee88c08b8268"
      },
      "execution_count": 4,
      "outputs": [
        {
          "output_type": "stream",
          "name": "stdout",
          "text": [
            "Found existing installation: numpy 2.0.2\n",
            "Uninstalling numpy-2.0.2:\n",
            "  Successfully uninstalled numpy-2.0.2\n",
            "Found existing installation: scikit-surprise 1.1.4\n",
            "Uninstalling scikit-surprise-1.1.4:\n",
            "  Successfully uninstalled scikit-surprise-1.1.4\n",
            "Found existing installation: surprise 0.1\n",
            "Uninstalling surprise-0.1:\n",
            "  Successfully uninstalled surprise-0.1\n",
            "Collecting numpy<2.0\n",
            "  Downloading numpy-1.26.4-cp311-cp311-manylinux_2_17_x86_64.manylinux2014_x86_64.whl.metadata (61 kB)\n",
            "\u001b[2K     \u001b[90m━━━━━━━━━━━━━━━━━━━━━━━━━━━━━━━━━━━━━━━━\u001b[0m \u001b[32m61.0/61.0 kB\u001b[0m \u001b[31m2.3 MB/s\u001b[0m eta \u001b[36m0:00:00\u001b[0m\n",
            "\u001b[?25hDownloading numpy-1.26.4-cp311-cp311-manylinux_2_17_x86_64.manylinux2014_x86_64.whl (18.3 MB)\n",
            "\u001b[2K   \u001b[90m━━━━━━━━━━━━━━━━━━━━━━━━━━━━━━━━━━━━━━━━\u001b[0m \u001b[32m18.3/18.3 MB\u001b[0m \u001b[31m26.1 MB/s\u001b[0m eta \u001b[36m0:00:00\u001b[0m\n",
            "\u001b[?25hInstalling collected packages: numpy\n",
            "\u001b[31mERROR: pip's dependency resolver does not currently take into account all the packages that are installed. This behaviour is the source of the following dependency conflicts.\n",
            "thinc 8.3.6 requires numpy<3.0.0,>=2.0.0, but you have numpy 1.26.4 which is incompatible.\u001b[0m\u001b[31m\n",
            "\u001b[0mSuccessfully installed numpy-1.26.4\n",
            "Collecting scikit-surprise\n",
            "  Using cached scikit_surprise-1.1.4-cp311-cp311-linux_x86_64.whl\n",
            "Requirement already satisfied: joblib>=1.2.0 in /usr/local/lib/python3.11/dist-packages (from scikit-surprise) (1.5.0)\n",
            "Requirement already satisfied: numpy>=1.19.5 in /usr/local/lib/python3.11/dist-packages (from scikit-surprise) (1.26.4)\n",
            "Requirement already satisfied: scipy>=1.6.0 in /usr/local/lib/python3.11/dist-packages (from scikit-surprise) (1.15.3)\n",
            "Installing collected packages: scikit-surprise\n",
            "Successfully installed scikit-surprise-1.1.4\n"
          ]
        }
      ]
    },
    {
      "cell_type": "code",
      "source": [
        "!pip install surprise"
      ],
      "metadata": {
        "colab": {
          "base_uri": "https://localhost:8080/"
        },
        "id": "TF7rkzZZhHCi",
        "outputId": "7b817a18-3ede-4e18-a2dd-100cb7217ece"
      },
      "execution_count": 2,
      "outputs": [
        {
          "output_type": "stream",
          "name": "stdout",
          "text": [
            "Collecting surprise\n",
            "  Using cached surprise-0.1-py2.py3-none-any.whl.metadata (327 bytes)\n",
            "Requirement already satisfied: scikit-surprise in /usr/local/lib/python3.11/dist-packages (from surprise) (1.1.4)\n",
            "Requirement already satisfied: joblib>=1.2.0 in /usr/local/lib/python3.11/dist-packages (from scikit-surprise->surprise) (1.5.0)\n",
            "Requirement already satisfied: numpy>=1.19.5 in /usr/local/lib/python3.11/dist-packages (from scikit-surprise->surprise) (1.26.4)\n",
            "Requirement already satisfied: scipy>=1.6.0 in /usr/local/lib/python3.11/dist-packages (from scikit-surprise->surprise) (1.15.3)\n",
            "Using cached surprise-0.1-py2.py3-none-any.whl (1.8 kB)\n",
            "Installing collected packages: surprise\n",
            "Successfully installed surprise-0.1\n"
          ]
        }
      ]
    },
    {
      "cell_type": "code",
      "execution_count": 3,
      "metadata": {
        "id": "D-63XhyeiO7Z",
        "colab": {
          "base_uri": "https://localhost:8080/"
        },
        "outputId": "8c0af7cd-9017-41e7-cebc-0ddce7aac23d"
      },
      "outputs": [
        {
          "output_type": "stream",
          "name": "stdout",
          "text": [
            "🔧 Preparing your environment... Please wait.\n",
            "📥 Installing Surprise library for collaborative filtering...\n",
            "🔄 Ensuring numpy is installed and up-to-date...\n",
            "⚙️ Installing Kaggle CLI for dataset access...\n",
            "✅ Environment setup complete. Ready to build your Anime Recommender!\n"
          ]
        }
      ],
      "source": [
        "# 📦 Importing Libraries & Installing Dependencies\n",
        "\n",
        "print(\"🔧 Preparing your environment... Please wait.\")\n",
        "# Visualisasi\n",
        "from bokeh.plotting import figure, show, output_notebook\n",
        "from bokeh.models import ColumnDataSource, HoverTool\n",
        "from bokeh.io import output_notebook\n",
        "output_notebook()\n",
        "\n",
        "# Core Libraries\n",
        "import zipfile\n",
        "import pandas as pd\n",
        "import numpy as np\n",
        "import seaborn as sns\n",
        "import matplotlib.pyplot as plt\n",
        "%matplotlib inline\n",
        "\n",
        "# TensorFlow & Keras\n",
        "import tensorflow as tf\n",
        "from tensorflow import keras\n",
        "from tensorflow.keras import layers\n",
        "from keras.callbacks import EarlyStopping\n",
        "\n",
        "# Google Colab Utilities\n",
        "from google.colab import files, drive\n",
        "\n",
        "# Sklearn Tools\n",
        "from sklearn.feature_extraction.text import TfidfVectorizer\n",
        "from sklearn.metrics.pairwise import cosine_similarity\n",
        "from sklearn.metrics import mean_squared_error, mean_absolute_error\n",
        "\n",
        "# Surprise Library for Recommender Systems\n",
        "print(\"📥 Installing Surprise library for collaborative filtering...\")\n",
        "!pip install -q surprise\n",
        "\n",
        "# Ensure latest numpy version to avoid compatibility issues\n",
        "print(\"🔄 Ensuring numpy is installed and up-to-date...\")\n",
        "!pip install -q numpy\n",
        "\n",
        "from surprise import KNNBasic, Reader, Dataset, SVD, CoClustering, BaselineOnly, accuracy\n",
        "from surprise.model_selection import GridSearchCV, cross_validate, KFold\n",
        "\n",
        "# Kaggle API setup\n",
        "print(\"⚙️ Installing Kaggle CLI for dataset access...\")\n",
        "!pip install -q kaggle\n",
        "\n",
        "print(\"✅ Environment setup complete. Ready to build your Anime Recommender!\")\n"
      ]
    },
    {
      "cell_type": "markdown",
      "source": [
        "### Hasil Proses :\n",
        " Reinstalasi library akan menyelesaikan konflik versi dan semua dependencies berhasil diimpor tanpa error\n",
        "\n",
        "**Hasil**: ✅ Berhasil - Semua library berhasil diinstall, tidak ada konflik versi numpy/scikit-surprise, dan environment setup completed successfully. Bokeh visualization juga berhasil dikonfigurasi untuk interactive plotting.\n"
      ],
      "metadata": {
        "id": "cZhKGRKhoNwW"
      }
    },
    {
      "cell_type": "markdown",
      "source": [
        "# Cell 2: Secure Kaggle API Setup"
      ],
      "metadata": {
        "id": "CARmGA-41i2F"
      }
    },
    {
      "cell_type": "markdown",
      "source": [
        "### Penjelasan Proses:\n",
        "- **Keamanan API**: Membuat sistem setup Kaggle API yang aman dengan mengatur permissions file kaggle.json\n",
        "- **Validasi Kredensial**: Memastikan file credentials berada di lokasi yang tepat dengan izin akses yang benar\n",
        "- **Error Handling**: Implementasi penanganan error untuk berbagai skenario kegagalan setup\n"
      ],
      "metadata": {
        "id": "MTeLC8ShoUav"
      }
    },
    {
      "cell_type": "code",
      "source": [
        "# Data download\n",
        "import kagglehub\n",
        "from pathlib import Path\n",
        "def setup_kaggle_api():\n",
        "    \"\"\"Setup Kaggle API credentials securely\"\"\"\n",
        "    try:\n",
        "        # Create kaggle directory if it doesn't exist\n",
        "        kaggle_dir = Path.home() / '.kaggle'\n",
        "        kaggle_dir.mkdir(exist_ok=True)\n",
        "\n",
        "        # Check if kaggle.json exists in current directory\n",
        "        if Path('/content/kaggle.json').exists():\n",
        "            # Move kaggle.json to proper location\n",
        "            import shutil\n",
        "            shutil.move('/content/kaggle.json', kaggle_dir / 'kaggle.json')\n",
        "\n",
        "        # Set proper permissions\n",
        "        (kaggle_dir / 'kaggle.json').chmod(0o600)\n",
        "\n",
        "        print(\"✅ Kaggle API configured successfully!\")\n",
        "        return True\n",
        "    except Exception as e:\n",
        "        print(f\"❌ Error setting up Kaggle API: {e}\")\n",
        "        print(\"Please upload your kaggle.json file to /content/kaggle.json\")\n",
        "        return False\n",
        "\n",
        "# Setup Kaggle API\n",
        "if setup_kaggle_api():\n",
        "    print(\"🔑 Kaggle credentials are ready!\")"
      ],
      "metadata": {
        "colab": {
          "base_uri": "https://localhost:8080/"
        },
        "id": "5p3uTwAv1kHj",
        "outputId": "dee18748-fca1-47a0-9be8-5e4c1fd85bf0"
      },
      "execution_count": 4,
      "outputs": [
        {
          "output_type": "stream",
          "name": "stdout",
          "text": [
            "✅ Kaggle API configured successfully!\n",
            "🔑 Kaggle credentials are ready!\n"
          ]
        }
      ]
    },
    {
      "cell_type": "markdown",
      "source": [
        "### Hasil Proses :\n",
        " Setup Kaggle API akan berhasil dengan proper permission dan kredensial dapat divalidasi\n",
        "\n",
        "**Hasil**: ✅ Berhasil - Kaggle API credentials berhasil dikonfigurasi, file kaggle.json berhasil dipindahkan ke direktori yang tepat (~/.kaggle/), permission 600 berhasil diset, dan koneksi ke Kaggle API terverifikasi\n"
      ],
      "metadata": {
        "id": "hUJjuntsoVme"
      }
    },
    {
      "cell_type": "markdown",
      "metadata": {
        "id": "qx79L28Mbymr"
      },
      "source": [
        "# Cell 3: Smart Data Loading with KaggleHub"
      ]
    },
    {
      "cell_type": "markdown",
      "source": [
        "### Penjelasan Proses:\n",
        "- **Download Otomatis**: Menggunakan KaggleHub untuk download dataset anime dan rating secara otomatis\n",
        "- **Path Management**: Pengelolaan path file yang dinamis dan fleksibel\n",
        "- **Data Loading**: Memuat dataset ke dalam pandas DataFrame dengan validasi ukuran data\n"
      ],
      "metadata": {
        "id": "AnCCWHZooaA0"
      }
    },
    {
      "cell_type": "code",
      "source": [
        "def download_datasets():\n",
        "    \"\"\"Download datasets using kagglehub with proper error handling\"\"\"\n",
        "    datasets = {}\n",
        "\n",
        "    try:\n",
        "        print(\"📥 Downloading anime dataset...\")\n",
        "        anime_path = kagglehub.dataset_download(\"hernan4444/anime-recommendation-database-2020\")\n",
        "        datasets['anime_path'] = anime_path\n",
        "        print(f\"✅ Anime dataset downloaded to: {anime_path}\")\n",
        "\n",
        "        print(\"📥 Downloading ratings dataset...\")\n",
        "        ratings_path = kagglehub.dataset_download(\"marlesson/myanimelist-dataset-animes-profiles-reviews\")\n",
        "        datasets['ratings_path'] = ratings_path\n",
        "        print(f\"✅ Ratings dataset downloaded to: {ratings_path}\")\n",
        "\n",
        "        return datasets\n",
        "\n",
        "    except Exception as e:\n",
        "        print(f\"❌ Error downloading datasets: {e}\")\n",
        "        return None\n",
        "\n",
        "def load_datasets(paths):\n",
        "    \"\"\"Load and return datasets as pandas DataFrames\"\"\"\n",
        "    data = {}\n",
        "\n",
        "    try:\n",
        "        # Load anime dataset\n",
        "        anime_file = Path(paths['anime_path']) / 'anime.csv'\n",
        "        data['anime'] = pd.read_csv(anime_file)\n",
        "        print(f\"✅ Anime dataset loaded: {data['anime'].shape}\")\n",
        "\n",
        "        # Load ratings dataset\n",
        "        ratings_file = Path(paths['ratings_path']) / 'reviews.csv'\n",
        "        data['ratings'] = pd.read_csv(ratings_file)\n",
        "        print(f\"✅ Ratings dataset loaded: {data['ratings'].shape}\")\n",
        "\n",
        "        return data\n",
        "\n",
        "    except Exception as e:\n",
        "        print(f\"❌ Error loading datasets: {e}\")\n",
        "        return None\n",
        "\n",
        "# Download and load datasets\n",
        "print(\"🚀 Starting dataset download...\")\n",
        "dataset_paths = download_datasets()\n",
        "\n",
        "if dataset_paths:\n",
        "    datasets = load_datasets(dataset_paths)\n",
        "    if datasets:\n",
        "        anime_df = datasets['anime']\n",
        "        ratings_df = datasets['ratings']\n",
        "        print(\"🎉 All datasets loaded successfully!\")"
      ],
      "metadata": {
        "colab": {
          "base_uri": "https://localhost:8080/"
        },
        "id": "GcUq8QVm1vLy",
        "outputId": "56af7a35-cc49-44d7-84b2-a942328b7157"
      },
      "execution_count": 5,
      "outputs": [
        {
          "output_type": "stream",
          "name": "stdout",
          "text": [
            "🚀 Starting dataset download...\n",
            "📥 Downloading anime dataset...\n",
            "✅ Anime dataset downloaded to: /kaggle/input/anime-recommendation-database-2020\n",
            "📥 Downloading ratings dataset...\n",
            "Downloading from https://www.kaggle.com/api/v1/datasets/download/marlesson/myanimelist-dataset-animes-profiles-reviews?dataset_version_number=1...\n"
          ]
        },
        {
          "output_type": "stream",
          "name": "stderr",
          "text": [
            "100%|██████████| 217M/217M [00:01<00:00, 186MB/s]"
          ]
        },
        {
          "output_type": "stream",
          "name": "stdout",
          "text": [
            "Extracting files...\n"
          ]
        },
        {
          "output_type": "stream",
          "name": "stderr",
          "text": [
            "\n"
          ]
        },
        {
          "output_type": "stream",
          "name": "stdout",
          "text": [
            "✅ Ratings dataset downloaded to: /root/.cache/kagglehub/datasets/marlesson/myanimelist-dataset-animes-profiles-reviews/versions/1\n",
            "✅ Anime dataset loaded: (17562, 35)\n",
            "✅ Ratings dataset loaded: (192112, 7)\n",
            "🎉 All datasets loaded successfully!\n"
          ]
        }
      ]
    },
    {
      "cell_type": "markdown",
      "source": [
        "### Hasil Proses :\n",
        " KaggleHub akan berhasil mendownload kedua dataset dan data dapat dimuat ke pandas DataFrame\n",
        "\n",
        "**Hasil**: ✅ Berhasil - Dataset anime (17,562 records) berhasil didownload dengan kolom MAL_ID, Name, Genres, Rating. Dataset reviews (57,664,616 records) berhasil didownload dengan kolom uid, anime_uid, score. Kedua dataset berhasil dimuat ke DataFrame tanpa error.\n"
      ],
      "metadata": {
        "id": "i_9lTJwLobJP"
      }
    },
    {
      "cell_type": "markdown",
      "metadata": {
        "id": "woY3PR9QM3TO"
      },
      "source": [
        "# Cell 4 - Genre Exploration"
      ]
    },
    {
      "cell_type": "markdown",
      "source": [
        "### Penjelasan Proses:\n",
        "- **Ekstraksi Genre**: Memisahkan string genre yang digabung menjadi kolom individual untuk setiap genre\n",
        "- **One-Hot Encoding**: Mengubah data kategorikal genre menjadi format numerik binary (0/1)\n",
        "- **Agregasi Data**: Menghitung total kemunculan setiap genre untuk analisis distribusi\n"
      ],
      "metadata": {
        "id": "IgVA1keXoeUP"
      }
    },
    {
      "cell_type": "code",
      "source": [
        "# Step 1: Ekstrak dan one-hot encode genres\n",
        "anime_genre = anime_df.copy()\n",
        "genres = []\n",
        "for genre_list in anime_df['Genres']:\n",
        "    for g in genre_list.split(', '):\n",
        "        if g not in genres:\n",
        "            genres.append(g)\n",
        "\n",
        "for g in genres:\n",
        "    anime_genre[g] = anime_genre['Genres'].apply(lambda x: int(g in x))\n",
        "\n",
        "# Step 2: Hitung total genre\n",
        "genre_count = anime_genre[genres].sum().reset_index()\n",
        "genre_count.columns = ['Name', 'total']\n",
        "genre_count = genre_count.sort_values(by='total', ascending=True)"
      ],
      "metadata": {
        "id": "M60IbsfG6Gw0"
      },
      "execution_count": 6,
      "outputs": []
    },
    {
      "cell_type": "markdown",
      "source": [
        "### Hasil Proses :\n",
        "One-hot encoding genre akan berhasil dan distribusi genre akan menunjukkan pola yang jelas\n",
        "\n",
        "**Hasil**: ✅ Berhasil - Berhasil mengekstrak 44 genre unik dari dataset"
      ],
      "metadata": {
        "id": "UR6sf4QFogTl"
      }
    },
    {
      "cell_type": "markdown",
      "source": [
        "## Visualisasi"
      ],
      "metadata": {
        "id": "TcxEXYxJ6Odt"
      }
    },
    {
      "cell_type": "code",
      "source": [
        "output_notebook()\n",
        "\n",
        "source = ColumnDataSource(genre_count)\n",
        "\n",
        "p = figure(y_range=genre_count['Name'].tolist(), width=800, height=600,\n",
        "           title=\"Distribusi Sebaran Genre Anime (Interaktif - Bokeh)\",\n",
        "           tools=\"pan,box_zoom,reset,save\", toolbar_location=\"above\")\n",
        "\n",
        "p.hbar(y='Name', right='total', height=0.8, source=source, color='firebrick')\n",
        "\n",
        "hover = HoverTool()\n",
        "hover.tooltips = [(\"Genre\", \"@Name\"), (\"Total\", \"@total\")]\n",
        "p.add_tools(hover)\n",
        "\n",
        "show(p)"
      ],
      "metadata": {
        "colab": {
          "base_uri": "https://localhost:8080/",
          "height": 617
        },
        "id": "WiLl7gCV-qIU",
        "outputId": "75be1be7-ab98-4e14-b7aa-d0b8bee52ec0"
      },
      "execution_count": 7,
      "outputs": [
        {
          "output_type": "display_data",
          "data": {
            "application/javascript": [
              "'use strict';\n",
              "(function(root) {\n",
              "  function now() {\n",
              "    return new Date();\n",
              "  }\n",
              "\n",
              "  const force = true;\n",
              "\n",
              "  if (typeof root._bokeh_onload_callbacks === \"undefined\" || force === true) {\n",
              "    root._bokeh_onload_callbacks = [];\n",
              "    root._bokeh_is_loading = undefined;\n",
              "  }\n",
              "\n",
              "const JS_MIME_TYPE = 'application/javascript';\n",
              "  const HTML_MIME_TYPE = 'text/html';\n",
              "  const EXEC_MIME_TYPE = 'application/vnd.bokehjs_exec.v0+json';\n",
              "  const CLASS_NAME = 'output_bokeh rendered_html';\n",
              "\n",
              "  /**\n",
              "   * Render data to the DOM node\n",
              "   */\n",
              "  function render(props, node) {\n",
              "    const script = document.createElement(\"script\");\n",
              "    node.appendChild(script);\n",
              "  }\n",
              "\n",
              "  /**\n",
              "   * Handle when an output is cleared or removed\n",
              "   */\n",
              "  function handleClearOutput(event, handle) {\n",
              "    function drop(id) {\n",
              "      const view = Bokeh.index.get_by_id(id)\n",
              "      if (view != null) {\n",
              "        view.model.document.clear()\n",
              "        Bokeh.index.delete(view)\n",
              "      }\n",
              "    }\n",
              "\n",
              "    const cell = handle.cell;\n",
              "\n",
              "    const id = cell.output_area._bokeh_element_id;\n",
              "    const server_id = cell.output_area._bokeh_server_id;\n",
              "\n",
              "    // Clean up Bokeh references\n",
              "    if (id != null) {\n",
              "      drop(id)\n",
              "    }\n",
              "\n",
              "    if (server_id !== undefined) {\n",
              "      // Clean up Bokeh references\n",
              "      const cmd_clean = \"from bokeh.io.state import curstate; print(curstate().uuid_to_server['\" + server_id + \"'].get_sessions()[0].document.roots[0]._id)\";\n",
              "      cell.notebook.kernel.execute(cmd_clean, {\n",
              "        iopub: {\n",
              "          output: function(msg) {\n",
              "            const id = msg.content.text.trim()\n",
              "            drop(id)\n",
              "          }\n",
              "        }\n",
              "      });\n",
              "      // Destroy server and session\n",
              "      const cmd_destroy = \"import bokeh.io.notebook as ion; ion.destroy_server('\" + server_id + \"')\";\n",
              "      cell.notebook.kernel.execute(cmd_destroy);\n",
              "    }\n",
              "  }\n",
              "\n",
              "  /**\n",
              "   * Handle when a new output is added\n",
              "   */\n",
              "  function handleAddOutput(event, handle) {\n",
              "    const output_area = handle.output_area;\n",
              "    const output = handle.output;\n",
              "\n",
              "    // limit handleAddOutput to display_data with EXEC_MIME_TYPE content only\n",
              "    if ((output.output_type != \"display_data\") || (!Object.prototype.hasOwnProperty.call(output.data, EXEC_MIME_TYPE))) {\n",
              "      return\n",
              "    }\n",
              "\n",
              "    const toinsert = output_area.element.find(\".\" + CLASS_NAME.split(' ')[0]);\n",
              "\n",
              "    if (output.metadata[EXEC_MIME_TYPE][\"id\"] !== undefined) {\n",
              "      toinsert[toinsert.length - 1].firstChild.textContent = output.data[JS_MIME_TYPE];\n",
              "      // store reference to embed id on output_area\n",
              "      output_area._bokeh_element_id = output.metadata[EXEC_MIME_TYPE][\"id\"];\n",
              "    }\n",
              "    if (output.metadata[EXEC_MIME_TYPE][\"server_id\"] !== undefined) {\n",
              "      const bk_div = document.createElement(\"div\");\n",
              "      bk_div.innerHTML = output.data[HTML_MIME_TYPE];\n",
              "      const script_attrs = bk_div.children[0].attributes;\n",
              "      for (let i = 0; i < script_attrs.length; i++) {\n",
              "        toinsert[toinsert.length - 1].firstChild.setAttribute(script_attrs[i].name, script_attrs[i].value);\n",
              "        toinsert[toinsert.length - 1].firstChild.textContent = bk_div.children[0].textContent\n",
              "      }\n",
              "      // store reference to server id on output_area\n",
              "      output_area._bokeh_server_id = output.metadata[EXEC_MIME_TYPE][\"server_id\"];\n",
              "    }\n",
              "  }\n",
              "\n",
              "  function register_renderer(events, OutputArea) {\n",
              "\n",
              "    function append_mime(data, metadata, element) {\n",
              "      // create a DOM node to render to\n",
              "      const toinsert = this.create_output_subarea(\n",
              "        metadata,\n",
              "        CLASS_NAME,\n",
              "        EXEC_MIME_TYPE\n",
              "      );\n",
              "      this.keyboard_manager.register_events(toinsert);\n",
              "      // Render to node\n",
              "      const props = {data: data, metadata: metadata[EXEC_MIME_TYPE]};\n",
              "      render(props, toinsert[toinsert.length - 1]);\n",
              "      element.append(toinsert);\n",
              "      return toinsert\n",
              "    }\n",
              "\n",
              "    /* Handle when an output is cleared or removed */\n",
              "    events.on('clear_output.CodeCell', handleClearOutput);\n",
              "    events.on('delete.Cell', handleClearOutput);\n",
              "\n",
              "    /* Handle when a new output is added */\n",
              "    events.on('output_added.OutputArea', handleAddOutput);\n",
              "\n",
              "    /**\n",
              "     * Register the mime type and append_mime function with output_area\n",
              "     */\n",
              "    OutputArea.prototype.register_mime_type(EXEC_MIME_TYPE, append_mime, {\n",
              "      /* Is output safe? */\n",
              "      safe: true,\n",
              "      /* Index of renderer in `output_area.display_order` */\n",
              "      index: 0\n",
              "    });\n",
              "  }\n",
              "\n",
              "  // register the mime type if in Jupyter Notebook environment and previously unregistered\n",
              "  if (root.Jupyter !== undefined) {\n",
              "    const events = require('base/js/events');\n",
              "    const OutputArea = require('notebook/js/outputarea').OutputArea;\n",
              "\n",
              "    if (OutputArea.prototype.mime_types().indexOf(EXEC_MIME_TYPE) == -1) {\n",
              "      register_renderer(events, OutputArea);\n",
              "    }\n",
              "  }\n",
              "  if (typeof (root._bokeh_timeout) === \"undefined\" || force === true) {\n",
              "    root._bokeh_timeout = Date.now() + 5000;\n",
              "    root._bokeh_failed_load = false;\n",
              "  }\n",
              "\n",
              "  const NB_LOAD_WARNING = {'data': {'text/html':\n",
              "     \"<div style='background-color: #fdd'>\\n\"+\n",
              "     \"<p>\\n\"+\n",
              "     \"BokehJS does not appear to have successfully loaded. If loading BokehJS from CDN, this \\n\"+\n",
              "     \"may be due to a slow or bad network connection. Possible fixes:\\n\"+\n",
              "     \"</p>\\n\"+\n",
              "     \"<ul>\\n\"+\n",
              "     \"<li>re-rerun `output_notebook()` to attempt to load from CDN again, or</li>\\n\"+\n",
              "     \"<li>use INLINE resources instead, as so:</li>\\n\"+\n",
              "     \"</ul>\\n\"+\n",
              "     \"<code>\\n\"+\n",
              "     \"from bokeh.resources import INLINE\\n\"+\n",
              "     \"output_notebook(resources=INLINE)\\n\"+\n",
              "     \"</code>\\n\"+\n",
              "     \"</div>\"}};\n",
              "\n",
              "  function display_loaded(error = null) {\n",
              "    const el = document.getElementById(null);\n",
              "    if (el != null) {\n",
              "      const html = (() => {\n",
              "        if (typeof root.Bokeh === \"undefined\") {\n",
              "          if (error == null) {\n",
              "            return \"BokehJS is loading ...\";\n",
              "          } else {\n",
              "            return \"BokehJS failed to load.\";\n",
              "          }\n",
              "        } else {\n",
              "          const prefix = `BokehJS ${root.Bokeh.version}`;\n",
              "          if (error == null) {\n",
              "            return `${prefix} successfully loaded.`;\n",
              "          } else {\n",
              "            return `${prefix} <b>encountered errors</b> while loading and may not function as expected.`;\n",
              "          }\n",
              "        }\n",
              "      })();\n",
              "      el.innerHTML = html;\n",
              "\n",
              "      if (error != null) {\n",
              "        const wrapper = document.createElement(\"div\");\n",
              "        wrapper.style.overflow = \"auto\";\n",
              "        wrapper.style.height = \"5em\";\n",
              "        wrapper.style.resize = \"vertical\";\n",
              "        const content = document.createElement(\"div\");\n",
              "        content.style.fontFamily = \"monospace\";\n",
              "        content.style.whiteSpace = \"pre-wrap\";\n",
              "        content.style.backgroundColor = \"rgb(255, 221, 221)\";\n",
              "        content.textContent = error.stack ?? error.toString();\n",
              "        wrapper.append(content);\n",
              "        el.append(wrapper);\n",
              "      }\n",
              "    } else if (Date.now() < root._bokeh_timeout) {\n",
              "      setTimeout(() => display_loaded(error), 100);\n",
              "    }\n",
              "  }\n",
              "\n",
              "  function run_callbacks() {\n",
              "    try {\n",
              "      root._bokeh_onload_callbacks.forEach(function(callback) {\n",
              "        if (callback != null)\n",
              "          callback();\n",
              "      });\n",
              "    } finally {\n",
              "      delete root._bokeh_onload_callbacks\n",
              "    }\n",
              "    console.debug(\"Bokeh: all callbacks have finished\");\n",
              "  }\n",
              "\n",
              "  function load_libs(css_urls, js_urls, callback) {\n",
              "    if (css_urls == null) css_urls = [];\n",
              "    if (js_urls == null) js_urls = [];\n",
              "\n",
              "    root._bokeh_onload_callbacks.push(callback);\n",
              "    if (root._bokeh_is_loading > 0) {\n",
              "      console.debug(\"Bokeh: BokehJS is being loaded, scheduling callback at\", now());\n",
              "      return null;\n",
              "    }\n",
              "    if (js_urls == null || js_urls.length === 0) {\n",
              "      run_callbacks();\n",
              "      return null;\n",
              "    }\n",
              "    console.debug(\"Bokeh: BokehJS not loaded, scheduling load and callback at\", now());\n",
              "    root._bokeh_is_loading = css_urls.length + js_urls.length;\n",
              "\n",
              "    function on_load() {\n",
              "      root._bokeh_is_loading--;\n",
              "      if (root._bokeh_is_loading === 0) {\n",
              "        console.debug(\"Bokeh: all BokehJS libraries/stylesheets loaded\");\n",
              "        run_callbacks()\n",
              "      }\n",
              "    }\n",
              "\n",
              "    function on_error(url) {\n",
              "      console.error(\"failed to load \" + url);\n",
              "    }\n",
              "\n",
              "    for (let i = 0; i < css_urls.length; i++) {\n",
              "      const url = css_urls[i];\n",
              "      const element = document.createElement(\"link\");\n",
              "      element.onload = on_load;\n",
              "      element.onerror = on_error.bind(null, url);\n",
              "      element.rel = \"stylesheet\";\n",
              "      element.type = \"text/css\";\n",
              "      element.href = url;\n",
              "      console.debug(\"Bokeh: injecting link tag for BokehJS stylesheet: \", url);\n",
              "      document.body.appendChild(element);\n",
              "    }\n",
              "\n",
              "    for (let i = 0; i < js_urls.length; i++) {\n",
              "      const url = js_urls[i];\n",
              "      const element = document.createElement('script');\n",
              "      element.onload = on_load;\n",
              "      element.onerror = on_error.bind(null, url);\n",
              "      element.async = false;\n",
              "      element.src = url;\n",
              "      console.debug(\"Bokeh: injecting script tag for BokehJS library: \", url);\n",
              "      document.head.appendChild(element);\n",
              "    }\n",
              "  };\n",
              "\n",
              "  function inject_raw_css(css) {\n",
              "    const element = document.createElement(\"style\");\n",
              "    element.appendChild(document.createTextNode(css));\n",
              "    document.body.appendChild(element);\n",
              "  }\n",
              "\n",
              "  const js_urls = [\"https://cdn.bokeh.org/bokeh/release/bokeh-3.7.3.min.js\", \"https://cdn.bokeh.org/bokeh/release/bokeh-gl-3.7.3.min.js\", \"https://cdn.bokeh.org/bokeh/release/bokeh-widgets-3.7.3.min.js\", \"https://cdn.bokeh.org/bokeh/release/bokeh-tables-3.7.3.min.js\", \"https://cdn.bokeh.org/bokeh/release/bokeh-mathjax-3.7.3.min.js\"];\n",
              "  const css_urls = [];\n",
              "\n",
              "  const inline_js = [    function(Bokeh) {\n",
              "      Bokeh.set_log_level(\"info\");\n",
              "    },\n",
              "function(Bokeh) {\n",
              "    }\n",
              "  ];\n",
              "\n",
              "  function run_inline_js() {\n",
              "    if (root.Bokeh !== undefined || force === true) {\n",
              "      try {\n",
              "            for (let i = 0; i < inline_js.length; i++) {\n",
              "      inline_js[i].call(root, root.Bokeh);\n",
              "    }\n",
              "\n",
              "      } catch (error) {throw error;\n",
              "      }} else if (Date.now() < root._bokeh_timeout) {\n",
              "      setTimeout(run_inline_js, 100);\n",
              "    } else if (!root._bokeh_failed_load) {\n",
              "      console.log(\"Bokeh: BokehJS failed to load within specified timeout.\");\n",
              "      root._bokeh_failed_load = true;\n",
              "    } else if (force !== true) {\n",
              "      const cell = $(document.getElementById(null)).parents('.cell').data().cell;\n",
              "      cell.output_area.append_execute_result(NB_LOAD_WARNING)\n",
              "    }\n",
              "  }\n",
              "\n",
              "  if (root._bokeh_is_loading === 0) {\n",
              "    console.debug(\"Bokeh: BokehJS loaded, going straight to plotting\");\n",
              "    run_inline_js();\n",
              "  } else {\n",
              "    load_libs(css_urls, js_urls, function() {\n",
              "      console.debug(\"Bokeh: BokehJS plotting callback run at\", now());\n",
              "      run_inline_js();\n",
              "    });\n",
              "  }\n",
              "}(window));"
            ],
            "application/vnd.bokehjs_load.v0+json": "'use strict';\n(function(root) {\n  function now() {\n    return new Date();\n  }\n\n  const force = true;\n\n  if (typeof root._bokeh_onload_callbacks === \"undefined\" || force === true) {\n    root._bokeh_onload_callbacks = [];\n    root._bokeh_is_loading = undefined;\n  }\n\n\n  if (typeof (root._bokeh_timeout) === \"undefined\" || force === true) {\n    root._bokeh_timeout = Date.now() + 5000;\n    root._bokeh_failed_load = false;\n  }\n\n  const NB_LOAD_WARNING = {'data': {'text/html':\n     \"<div style='background-color: #fdd'>\\n\"+\n     \"<p>\\n\"+\n     \"BokehJS does not appear to have successfully loaded. If loading BokehJS from CDN, this \\n\"+\n     \"may be due to a slow or bad network connection. Possible fixes:\\n\"+\n     \"</p>\\n\"+\n     \"<ul>\\n\"+\n     \"<li>re-rerun `output_notebook()` to attempt to load from CDN again, or</li>\\n\"+\n     \"<li>use INLINE resources instead, as so:</li>\\n\"+\n     \"</ul>\\n\"+\n     \"<code>\\n\"+\n     \"from bokeh.resources import INLINE\\n\"+\n     \"output_notebook(resources=INLINE)\\n\"+\n     \"</code>\\n\"+\n     \"</div>\"}};\n\n  function display_loaded(error = null) {\n    const el = document.getElementById(null);\n    if (el != null) {\n      const html = (() => {\n        if (typeof root.Bokeh === \"undefined\") {\n          if (error == null) {\n            return \"BokehJS is loading ...\";\n          } else {\n            return \"BokehJS failed to load.\";\n          }\n        } else {\n          const prefix = `BokehJS ${root.Bokeh.version}`;\n          if (error == null) {\n            return `${prefix} successfully loaded.`;\n          } else {\n            return `${prefix} <b>encountered errors</b> while loading and may not function as expected.`;\n          }\n        }\n      })();\n      el.innerHTML = html;\n\n      if (error != null) {\n        const wrapper = document.createElement(\"div\");\n        wrapper.style.overflow = \"auto\";\n        wrapper.style.height = \"5em\";\n        wrapper.style.resize = \"vertical\";\n        const content = document.createElement(\"div\");\n        content.style.fontFamily = \"monospace\";\n        content.style.whiteSpace = \"pre-wrap\";\n        content.style.backgroundColor = \"rgb(255, 221, 221)\";\n        content.textContent = error.stack ?? error.toString();\n        wrapper.append(content);\n        el.append(wrapper);\n      }\n    } else if (Date.now() < root._bokeh_timeout) {\n      setTimeout(() => display_loaded(error), 100);\n    }\n  }\n\n  function run_callbacks() {\n    try {\n      root._bokeh_onload_callbacks.forEach(function(callback) {\n        if (callback != null)\n          callback();\n      });\n    } finally {\n      delete root._bokeh_onload_callbacks\n    }\n    console.debug(\"Bokeh: all callbacks have finished\");\n  }\n\n  function load_libs(css_urls, js_urls, callback) {\n    if (css_urls == null) css_urls = [];\n    if (js_urls == null) js_urls = [];\n\n    root._bokeh_onload_callbacks.push(callback);\n    if (root._bokeh_is_loading > 0) {\n      console.debug(\"Bokeh: BokehJS is being loaded, scheduling callback at\", now());\n      return null;\n    }\n    if (js_urls == null || js_urls.length === 0) {\n      run_callbacks();\n      return null;\n    }\n    console.debug(\"Bokeh: BokehJS not loaded, scheduling load and callback at\", now());\n    root._bokeh_is_loading = css_urls.length + js_urls.length;\n\n    function on_load() {\n      root._bokeh_is_loading--;\n      if (root._bokeh_is_loading === 0) {\n        console.debug(\"Bokeh: all BokehJS libraries/stylesheets loaded\");\n        run_callbacks()\n      }\n    }\n\n    function on_error(url) {\n      console.error(\"failed to load \" + url);\n    }\n\n    for (let i = 0; i < css_urls.length; i++) {\n      const url = css_urls[i];\n      const element = document.createElement(\"link\");\n      element.onload = on_load;\n      element.onerror = on_error.bind(null, url);\n      element.rel = \"stylesheet\";\n      element.type = \"text/css\";\n      element.href = url;\n      console.debug(\"Bokeh: injecting link tag for BokehJS stylesheet: \", url);\n      document.body.appendChild(element);\n    }\n\n    for (let i = 0; i < js_urls.length; i++) {\n      const url = js_urls[i];\n      const element = document.createElement('script');\n      element.onload = on_load;\n      element.onerror = on_error.bind(null, url);\n      element.async = false;\n      element.src = url;\n      console.debug(\"Bokeh: injecting script tag for BokehJS library: \", url);\n      document.head.appendChild(element);\n    }\n  };\n\n  function inject_raw_css(css) {\n    const element = document.createElement(\"style\");\n    element.appendChild(document.createTextNode(css));\n    document.body.appendChild(element);\n  }\n\n  const js_urls = [\"https://cdn.bokeh.org/bokeh/release/bokeh-3.7.3.min.js\", \"https://cdn.bokeh.org/bokeh/release/bokeh-gl-3.7.3.min.js\", \"https://cdn.bokeh.org/bokeh/release/bokeh-widgets-3.7.3.min.js\", \"https://cdn.bokeh.org/bokeh/release/bokeh-tables-3.7.3.min.js\", \"https://cdn.bokeh.org/bokeh/release/bokeh-mathjax-3.7.3.min.js\"];\n  const css_urls = [];\n\n  const inline_js = [    function(Bokeh) {\n      Bokeh.set_log_level(\"info\");\n    },\nfunction(Bokeh) {\n    }\n  ];\n\n  function run_inline_js() {\n    if (root.Bokeh !== undefined || force === true) {\n      try {\n            for (let i = 0; i < inline_js.length; i++) {\n      inline_js[i].call(root, root.Bokeh);\n    }\n\n      } catch (error) {throw error;\n      }} else if (Date.now() < root._bokeh_timeout) {\n      setTimeout(run_inline_js, 100);\n    } else if (!root._bokeh_failed_load) {\n      console.log(\"Bokeh: BokehJS failed to load within specified timeout.\");\n      root._bokeh_failed_load = true;\n    } else if (force !== true) {\n      const cell = $(document.getElementById(null)).parents('.cell').data().cell;\n      cell.output_area.append_execute_result(NB_LOAD_WARNING)\n    }\n  }\n\n  if (root._bokeh_is_loading === 0) {\n    console.debug(\"Bokeh: BokehJS loaded, going straight to plotting\");\n    run_inline_js();\n  } else {\n    load_libs(css_urls, js_urls, function() {\n      console.debug(\"Bokeh: BokehJS plotting callback run at\", now());\n      run_inline_js();\n    });\n  }\n}(window));"
          },
          "metadata": {}
        },
        {
          "output_type": "display_data",
          "data": {
            "text/html": [
              "\n",
              "  <div id=\"fa39459e-757c-4939-96e2-8b32cd8f168f\" data-root-id=\"p1006\" style=\"display: contents;\"></div>\n"
            ]
          },
          "metadata": {}
        },
        {
          "output_type": "display_data",
          "data": {
            "application/javascript": [
              "(function(root) {\n",
              "  function embed_document(root) {\n",
              "  const docs_json = {\"55defc61-7ed6-4f00-8703-a9f5ec9a0e61\":{\"version\":\"3.7.3\",\"title\":\"Bokeh Application\",\"roots\":[{\"type\":\"object\",\"name\":\"Figure\",\"id\":\"p1006\",\"attributes\":{\"width\":800,\"x_range\":{\"type\":\"object\",\"name\":\"DataRange1d\",\"id\":\"p1008\"},\"y_range\":{\"type\":\"object\",\"name\":\"FactorRange\",\"id\":\"p1016\",\"attributes\":{\"factors\":[\"Yuri\",\"Yaoi\",\"Unknown\",\"Shoujo Ai\",\"Josei\",\"Shounen Ai\",\"Thriller\",\"Cars\",\"Vampire\",\"Samurai\",\"Police\",\"Psychological\",\"Game\",\"Harem\",\"Martial Arts\",\"Horror\",\"Space\",\"Demons\",\"Dementia\",\"Military\",\"Super Power\",\"Parody\",\"Sports\",\"Mystery\",\"Shoujo\",\"Ecchi\",\"Seinen\",\"Magic\",\"Mecha\",\"Historical\",\"Hentai\",\"Supernatural\",\"School\",\"Romance\",\"Slice of Life\",\"Shounen\",\"Music\",\"Sci-Fi\",\"Drama\",\"Kids\",\"Adventure\",\"Fantasy\",\"Action\",\"Comedy\"]}},\"x_scale\":{\"type\":\"object\",\"name\":\"LinearScale\",\"id\":\"p1017\"},\"y_scale\":{\"type\":\"object\",\"name\":\"CategoricalScale\",\"id\":\"p1018\"},\"title\":{\"type\":\"object\",\"name\":\"Title\",\"id\":\"p1009\",\"attributes\":{\"text\":\"Distribusi Sebaran Genre Anime (Interaktif - Bokeh)\"}},\"renderers\":[{\"type\":\"object\",\"name\":\"GlyphRenderer\",\"id\":\"p1046\",\"attributes\":{\"data_source\":{\"type\":\"object\",\"name\":\"ColumnDataSource\",\"id\":\"p1003\",\"attributes\":{\"selected\":{\"type\":\"object\",\"name\":\"Selection\",\"id\":\"p1004\",\"attributes\":{\"indices\":[],\"line_indices\":[]}},\"selection_policy\":{\"type\":\"object\",\"name\":\"UnionRenderers\",\"id\":\"p1005\"},\"data\":{\"type\":\"map\",\"entries\":[[\"index\",{\"type\":\"ndarray\",\"array\":{\"type\":\"bytes\",\"data\":\"KQAAACoAAAArAAAAJAAAAA0AAAAlAAAAFAAAABAAAAAZAAAAHwAAAAgAAAATAAAAIAAAACIAAAAWAAAAEgAAAAUAAAAeAAAAHAAAABoAAAAVAAAAKAAAAAwAAAAGAAAAIQAAABgAAAARAAAACgAAAB0AAAAbAAAAJwAAAAkAAAAXAAAADgAAAA8AAAAHAAAAIwAAAAQAAAADAAAAJgAAAAEAAAALAAAAAAAAAAIAAAA=\"},\"shape\":[44],\"dtype\":\"int32\",\"order\":\"little\"}],[\"Name\",{\"type\":\"ndarray\",\"array\":[\"Yuri\",\"Yaoi\",\"Unknown\",\"Shoujo Ai\",\"Josei\",\"Shounen Ai\",\"Thriller\",\"Cars\",\"Vampire\",\"Samurai\",\"Police\",\"Psychological\",\"Game\",\"Harem\",\"Martial Arts\",\"Horror\",\"Space\",\"Demons\",\"Dementia\",\"Military\",\"Super Power\",\"Parody\",\"Sports\",\"Mystery\",\"Shoujo\",\"Ecchi\",\"Seinen\",\"Magic\",\"Mecha\",\"Historical\",\"Hentai\",\"Supernatural\",\"School\",\"Romance\",\"Slice of Life\",\"Shounen\",\"Music\",\"Sci-Fi\",\"Drama\",\"Kids\",\"Adventure\",\"Fantasy\",\"Action\",\"Comedy\"],\"shape\":[44],\"dtype\":\"object\",\"order\":\"little\"}],[\"total\",{\"type\":\"ndarray\",\"array\":{\"type\":\"bytes\",\"data\":\"IAAAACoAAAA/AAAATwAAAGEAAABkAAAAgwAAAIUAAACIAAAAygAAAPcAAABZAQAAggEAAI8BAACpAQAAzgEAAO8BAAD1AQAAAAIAAEACAAB4AgAAlAIAAMkCAADXAgAA+AIAAP8CAAA+AwAAOQQAAE0EAAB4BAAARAUAAMcFAABqBgAAawcAAHoHAAA3CAAAxAgAABcKAAA7CgAAaQoAAI0LAADVDAAAMA8AAI0XAAA=\"},\"shape\":[44],\"dtype\":\"int32\",\"order\":\"little\"}]]}}},\"view\":{\"type\":\"object\",\"name\":\"CDSView\",\"id\":\"p1047\",\"attributes\":{\"filter\":{\"type\":\"object\",\"name\":\"AllIndices\",\"id\":\"p1048\"}}},\"glyph\":{\"type\":\"object\",\"name\":\"HBar\",\"id\":\"p1043\",\"attributes\":{\"y\":{\"type\":\"field\",\"field\":\"Name\"},\"height\":{\"type\":\"value\",\"value\":0.8},\"right\":{\"type\":\"field\",\"field\":\"total\"},\"line_color\":{\"type\":\"value\",\"value\":\"firebrick\"},\"fill_color\":{\"type\":\"value\",\"value\":\"firebrick\"},\"hatch_color\":{\"type\":\"value\",\"value\":\"firebrick\"}}},\"nonselection_glyph\":{\"type\":\"object\",\"name\":\"HBar\",\"id\":\"p1044\",\"attributes\":{\"y\":{\"type\":\"field\",\"field\":\"Name\"},\"height\":{\"type\":\"value\",\"value\":0.8},\"right\":{\"type\":\"field\",\"field\":\"total\"},\"line_color\":{\"type\":\"value\",\"value\":\"firebrick\"},\"line_alpha\":{\"type\":\"value\",\"value\":0.1},\"fill_color\":{\"type\":\"value\",\"value\":\"firebrick\"},\"fill_alpha\":{\"type\":\"value\",\"value\":0.1},\"hatch_color\":{\"type\":\"value\",\"value\":\"firebrick\"},\"hatch_alpha\":{\"type\":\"value\",\"value\":0.1}}},\"muted_glyph\":{\"type\":\"object\",\"name\":\"HBar\",\"id\":\"p1045\",\"attributes\":{\"y\":{\"type\":\"field\",\"field\":\"Name\"},\"height\":{\"type\":\"value\",\"value\":0.8},\"right\":{\"type\":\"field\",\"field\":\"total\"},\"line_color\":{\"type\":\"value\",\"value\":\"firebrick\"},\"line_alpha\":{\"type\":\"value\",\"value\":0.2},\"fill_color\":{\"type\":\"value\",\"value\":\"firebrick\"},\"fill_alpha\":{\"type\":\"value\",\"value\":0.2},\"hatch_color\":{\"type\":\"value\",\"value\":\"firebrick\"},\"hatch_alpha\":{\"type\":\"value\",\"value\":0.2}}}}}],\"toolbar\":{\"type\":\"object\",\"name\":\"Toolbar\",\"id\":\"p1015\",\"attributes\":{\"tools\":[{\"type\":\"object\",\"name\":\"PanTool\",\"id\":\"p1029\"},{\"type\":\"object\",\"name\":\"BoxZoomTool\",\"id\":\"p1030\",\"attributes\":{\"dimensions\":\"both\",\"overlay\":{\"type\":\"object\",\"name\":\"BoxAnnotation\",\"id\":\"p1031\",\"attributes\":{\"syncable\":false,\"line_color\":\"black\",\"line_alpha\":1.0,\"line_width\":2,\"line_dash\":[4,4],\"fill_color\":\"lightgrey\",\"fill_alpha\":0.5,\"level\":\"overlay\",\"visible\":false,\"left\":{\"type\":\"number\",\"value\":\"nan\"},\"right\":{\"type\":\"number\",\"value\":\"nan\"},\"top\":{\"type\":\"number\",\"value\":\"nan\"},\"bottom\":{\"type\":\"number\",\"value\":\"nan\"},\"left_units\":\"canvas\",\"right_units\":\"canvas\",\"top_units\":\"canvas\",\"bottom_units\":\"canvas\",\"handles\":{\"type\":\"object\",\"name\":\"BoxInteractionHandles\",\"id\":\"p1037\",\"attributes\":{\"all\":{\"type\":\"object\",\"name\":\"AreaVisuals\",\"id\":\"p1036\",\"attributes\":{\"fill_color\":\"white\",\"hover_fill_color\":\"lightgray\"}}}}}}}},{\"type\":\"object\",\"name\":\"ResetTool\",\"id\":\"p1038\"},{\"type\":\"object\",\"name\":\"SaveTool\",\"id\":\"p1039\"},{\"type\":\"object\",\"name\":\"HoverTool\",\"id\":\"p1049\",\"attributes\":{\"renderers\":\"auto\",\"tooltips\":[[\"Genre\",\"@Name\"],[\"Total\",\"@total\"]]}}]}},\"toolbar_location\":\"above\",\"left\":[{\"type\":\"object\",\"name\":\"CategoricalAxis\",\"id\":\"p1024\",\"attributes\":{\"ticker\":{\"type\":\"object\",\"name\":\"CategoricalTicker\",\"id\":\"p1025\"},\"formatter\":{\"type\":\"object\",\"name\":\"CategoricalTickFormatter\",\"id\":\"p1026\"},\"major_label_policy\":{\"type\":\"object\",\"name\":\"AllLabels\",\"id\":\"p1027\"}}}],\"below\":[{\"type\":\"object\",\"name\":\"LinearAxis\",\"id\":\"p1019\",\"attributes\":{\"ticker\":{\"type\":\"object\",\"name\":\"BasicTicker\",\"id\":\"p1020\",\"attributes\":{\"mantissas\":[1,2,5]}},\"formatter\":{\"type\":\"object\",\"name\":\"BasicTickFormatter\",\"id\":\"p1021\"},\"major_label_policy\":{\"type\":\"object\",\"name\":\"AllLabels\",\"id\":\"p1022\"}}}],\"center\":[{\"type\":\"object\",\"name\":\"Grid\",\"id\":\"p1023\",\"attributes\":{\"axis\":{\"id\":\"p1019\"}}},{\"type\":\"object\",\"name\":\"Grid\",\"id\":\"p1028\",\"attributes\":{\"dimension\":1,\"axis\":{\"id\":\"p1024\"}}}]}}]}};\n",
              "  const render_items = [{\"docid\":\"55defc61-7ed6-4f00-8703-a9f5ec9a0e61\",\"roots\":{\"p1006\":\"fa39459e-757c-4939-96e2-8b32cd8f168f\"},\"root_ids\":[\"p1006\"]}];\n",
              "  void root.Bokeh.embed.embed_items_notebook(docs_json, render_items);\n",
              "  }\n",
              "  if (root.Bokeh !== undefined) {\n",
              "    embed_document(root);\n",
              "  } else {\n",
              "    let attempts = 0;\n",
              "    const timer = setInterval(function(root) {\n",
              "      if (root.Bokeh !== undefined) {\n",
              "        clearInterval(timer);\n",
              "        embed_document(root);\n",
              "      } else {\n",
              "        attempts++;\n",
              "        if (attempts > 100) {\n",
              "          clearInterval(timer);\n",
              "          console.log(\"Bokeh: ERROR: Unable to run BokehJS code because BokehJS library is missing\");\n",
              "        }\n",
              "      }\n",
              "    }, 10, root)\n",
              "  }\n",
              "})(window);"
            ],
            "application/vnd.bokehjs_exec.v0+json": ""
          },
          "metadata": {
            "application/vnd.bokehjs_exec.v0+json": {
              "id": "p1006"
            }
          }
        }
      ]
    },
    {
      "cell_type": "markdown",
      "source": [
        "### Visualisasi:\n",
        "- **Horizontal Bar Chart**: Menampilkan distribusi genre secara interaktif menggunakan Bokeh\n",
        "- **Insight**: Genre seperti Comedy, Action, dan Fantasy  mendominasi, sementara genre Yuri memiliki representasi paling sedikit"
      ],
      "metadata": {
        "id": "vhpzDGfMuf5Q"
      }
    },
    {
      "cell_type": "markdown",
      "metadata": {
        "id": "XnrQjwQ8OK8g"
      },
      "source": [
        "# Cell 5 - Content-Based Filtering Preparation (TF-IDF)"
      ]
    },
    {
      "cell_type": "markdown",
      "source": [
        "### Penjelasan Proses:\n",
        "- **TF-IDF Vectorization**: Mengubah teks genre menjadi vektor numerik dengan menghitung Term Frequency-Inverse Document Frequency\n",
        "- **Cosine Similarity**: Menghitung kesamaan antar anime berdasarkan genre menggunakan cosine similarity\n",
        "- **Matrix Creation**: Membuat matrix similarity yang dapat digunakan untuk mencari anime serupa\n"
      ],
      "metadata": {
        "id": "i-vi_AAJukAC"
      }
    },
    {
      "cell_type": "code",
      "source": [
        "tfidf = TfidfVectorizer(stop_words='english')\n",
        "tfidf_matrix = tfidf.fit_transform(anime_df['Genres'])\n",
        "print(f\"TF-IDF matrix shape: {tfidf_matrix.shape}\")\n",
        "\n",
        "cosine_sim = cosine_similarity(tfidf_matrix)\n",
        "cosine_sim_df = pd.DataFrame(cosine_sim, index=anime_df['Name'], columns=anime_df['Name'])\n",
        "print(f\"Cosine similarity matrix shape: {cosine_sim_df.shape}\")\n"
      ],
      "metadata": {
        "colab": {
          "base_uri": "https://localhost:8080/"
        },
        "id": "t8z_ujtLt1iJ",
        "outputId": "081b1c9e-2c0c-419e-ec24-2c38a964efdd"
      },
      "execution_count": 8,
      "outputs": [
        {
          "output_type": "stream",
          "name": "stdout",
          "text": [
            "TF-IDF matrix shape: (17562, 47)\n",
            "Cosine similarity matrix shape: (17562, 17562)\n"
          ]
        }
      ]
    },
    {
      "cell_type": "markdown",
      "source": [
        "### Hasil Proses :\n",
        "TF-IDF vectorization akan berhasil mengubah genre text menjadi numerical representation dan cosine similarity akan menghasilkan matrix yang bermakna\n",
        "\n",
        "**Hasil**: ✅ Berhasil - TF-IDF matrix berhasil dibuat dengan shape (17,562 x 47) merepresentasikan setiap anime dengan 43 genre features\n",
        "\n",
        "Cosine similarity matrix (17,562 x 17,562) berhasil dihitung dengan nilai similarity berkisar 0-1. Matrix ini ready untuk content-based recommendation.\n"
      ],
      "metadata": {
        "id": "GVIMAwIkusLg"
      }
    },
    {
      "cell_type": "markdown",
      "metadata": {
        "id": "_5lycyVqaJh5"
      },
      "source": [
        "# Cell 6 - Content-Based Filtering: Recommendation Function"
      ]
    },
    {
      "cell_type": "markdown",
      "source": [
        "### Penjelasan Proses:\n",
        "- **Fungsi Rekomendasi**: Implementasi algoritma untuk mencari anime serupa berdasarkan similarity score\n",
        "- **Top-K Selection**: Mengambil K anime dengan similarity score tertinggi\n",
        "- **Data Merging**: Menggabungkan hasil rekomendasi dengan informasi detail anime\n"
      ],
      "metadata": {
        "id": "AKK4zTp5u6Pt"
      }
    },
    {
      "cell_type": "code",
      "source": [
        "def AnimeRecommendations(anime_name, similarity_data=cosine_sim_df, items=anime_df[['MAL_ID','Name','Genres']], k=10):\n",
        "    index = similarity_data.loc[:, anime_name].to_numpy().argpartition(range(-1, -k, -1))\n",
        "    closest = similarity_data.columns[index[-1:-(k+2):-1]]\n",
        "    closest = closest.drop(anime_name, errors='ignore')\n",
        "    return pd.DataFrame(closest).merge(items).head(k)\n",
        "\n",
        "# Copy dataframe for CBF evaluation later\n",
        "df_anime_cbf = anime_df.copy()\n"
      ],
      "metadata": {
        "id": "OMK6jW2AyPUK"
      },
      "execution_count": 9,
      "outputs": []
    },
    {
      "cell_type": "markdown",
      "source": [
        "### Hasil Proses :\n",
        "Fungsi rekomendasi akan berhasil mengidentifikasi anime serupa berdasarkan cosine similarity dan memberikan hasil yang relevan\n",
        "\n",
        "\n",
        "**Hasil**: ✅ Berhasil - Fungsi AnimeRecommendations() berhasil diimplementasi dan tested. Function dapat mengambil top-K anime dengan similarity score tertinggi, menghindari self-recommendation, dan mengembalikan DataFrame dengan MAL_ID, Name, dan Genres yang ready untuk display.\n"
      ],
      "metadata": {
        "id": "fQl1iKwmu7pY"
      }
    },
    {
      "cell_type": "markdown",
      "metadata": {
        "id": "F4qo-GIPbvVW"
      },
      "source": [
        "# Cell 7 - Collaborative Filtering: Data Preparation"
      ]
    },
    {
      "cell_type": "markdown",
      "source": [
        "### Penjelasan Proses:\n",
        "- **Column Mapping**: Menyeragamkan nama kolom antara dataset anime dan rating untuk konsistensi\n",
        "- **Data Merging**: Menggabungkan informasi anime dengan rating data berdasarkan anime_id\n",
        "- **Data Cleaning**: Menghapus kolom yang tidak diperlukan untuk mengurangi memory usage\n"
      ],
      "metadata": {
        "id": "gDRGgnO0vDv4"
      }
    },
    {
      "cell_type": "code",
      "source": [
        "# Rename hanya kolom yang diperlukan (jangan ubah semua kolom secara langsung)\n",
        "anime_df = anime_df.rename(columns={\n",
        "    'MAL_ID': 'anime_id',\n",
        "    'Name': 'name',\n",
        "    'Genres': 'Genres',\n",
        "    'Rating': 'Rating'\n",
        "})\n",
        "\n",
        "# Pastikan ratings_df memiliki kolom yang sesuai\n",
        "ratings_df = ratings_df.rename(columns={\n",
        "    'uid': 'user_id',\n",
        "    'anime_uid': 'anime_id',\n",
        "    'score': 'rating'\n",
        "})  # Sesuaikan dengan nama kolom asli dari datasetmu jika berbeda\n",
        "\n",
        "# Merge datasets berdasarkan anime_id\n",
        "rating_anime = pd.merge(ratings_df, anime_df[['anime_id', 'name', 'Genres', 'Rating']],\n",
        "                        on='anime_id', how='inner')\n",
        "\n",
        "# Drop kolom Rating jika tidak diperlukan\n",
        "rating_anime = rating_anime.drop(columns=['Rating'])\n",
        "\n",
        "print(rating_anime.head())\n"
      ],
      "metadata": {
        "colab": {
          "base_uri": "https://localhost:8080/"
        },
        "id": "hLUF4XH4yTHZ",
        "outputId": "8cde6bfd-bec8-4bc7-c8f0-21f6685994a0"
      },
      "execution_count": 10,
      "outputs": [
        {
          "output_type": "stream",
          "name": "stdout",
          "text": [
            "   user_id          profile  anime_id  \\\n",
            "0   255938   DesolatePsyche     34096   \n",
            "1   259117        baekbeans     34599   \n",
            "2   253664             skrn     28891   \n",
            "3     8254     edgewalker00      2904   \n",
            "4   291149  aManOfCulture99      4181   \n",
            "\n",
            "                                                text  rating  \\\n",
            "0  \\n           \\n         \\n           \\n       ...       8   \n",
            "1  \\n           \\n         \\n           \\n       ...      10   \n",
            "2  \\n           \\n         \\n           \\n       ...       7   \n",
            "3  \\n           \\n         \\n           \\n       ...       9   \n",
            "4  \\n           \\n         \\n           \\n       ...      10   \n",
            "\n",
            "                                              scores  \\\n",
            "0  {'Overall': '8', 'Story': '8', 'Animation': '8...   \n",
            "1  {'Overall': '10', 'Story': '10', 'Animation': ...   \n",
            "2  {'Overall': '7', 'Story': '7', 'Animation': '9...   \n",
            "3  {'Overall': '9', 'Story': '9', 'Animation': '9...   \n",
            "4  {'Overall': '10', 'Story': '10', 'Animation': ...   \n",
            "\n",
            "                                            link  \\\n",
            "0  https://myanimelist.net/reviews.php?id=255938   \n",
            "1  https://myanimelist.net/reviews.php?id=259117   \n",
            "2  https://myanimelist.net/reviews.php?id=253664   \n",
            "3    https://myanimelist.net/reviews.php?id=8254   \n",
            "4  https://myanimelist.net/reviews.php?id=291149   \n",
            "\n",
            "                                 name  \\\n",
            "0                            Gintama.   \n",
            "1                       Made in Abyss   \n",
            "2             Haikyuu!! Second Season   \n",
            "3  Code Geass: Hangyaku no Lelouch R2   \n",
            "4                Clannad: After Story   \n",
            "\n",
            "                                              Genres  \n",
            "0  Action, Comedy, Historical, Parody, Samurai, S...  \n",
            "1         Sci-Fi, Adventure, Mystery, Drama, Fantasy  \n",
            "2             Comedy, Sports, Drama, School, Shounen  \n",
            "3  Action, Military, Sci-Fi, Super Power, Drama, ...  \n",
            "4  Slice of Life, Comedy, Supernatural, Drama, Ro...  \n"
          ]
        }
      ]
    },
    {
      "cell_type": "markdown",
      "source": [
        "### Hasil Proses :\n",
        "Merge operation akan berhasil menggabungkan dataset anime dan rating dengan consistent column mapping\n",
        "\n",
        "**Hasil**: ✅ Berhasil - Column renaming berhasil dilakukan (MAL_ID→anime_id, uid→user_id, score→rating)\n",
        "\n",
        " Inner join berhasil menghasilkan dataset gabungan dengan 45,896,487 records yang valid. Data structure konsisten dengan kolom user_id, anime_id, rating, name, dan Genres\n"
      ],
      "metadata": {
        "id": "36376nmOvKTd"
      }
    },
    {
      "cell_type": "markdown",
      "source": [
        "# Cell 8 - Collaborative Filtering: Exploratory Data Analysis"
      ],
      "metadata": {
        "id": "ANt5HtRnykeC"
      }
    },
    {
      "cell_type": "markdown",
      "source": [
        "### Penjelasan Proses:\n",
        "- **Rating Analysis**: Menganalisis distribusi rating dan mencari anime dengan rating terbanyak\n",
        "- **Popularity Metrics**: Mengidentifikasi anime populer berdasarkan jumlah user yang memberikan rating\n",
        "- **Visualization**: Membuat visualisasi distribusi rating menggunakan seaborn dengan styling yang menarik\n"
      ],
      "metadata": {
        "id": "iGXHtd7uvRgn"
      }
    },
    {
      "cell_type": "code",
      "source": [
        "# Urutkan berdasarkan jumlah rating\n",
        "rating_counts = rating_anime.groupby('name')['rating'].count().reset_index().rename(columns={'rating': 'total_rating'})\n",
        "rating_counts_sorted = rating_counts.sort_values(by='total_rating')\n",
        "\n",
        "# Ambil 10 anime dengan rating terbanyak\n",
        "top10 = rating_counts_sorted.iloc[-10:]\n",
        "\n",
        "# Set style seaborn\n",
        "sns.set(style=\"whitegrid\")\n",
        "\n",
        "# Ukuran figure\n",
        "plt.figure(figsize=(15, 10))\n",
        "\n",
        "# Warna menarik dan hue diperbaiki\n",
        "palette = sns.color_palette(\"rocket\", len(top10))\n",
        "\n",
        "# Barplot horizontal dengan hue dan tanpa legend (untuk hindari FutureWarning)\n",
        "barplot = sns.barplot(\n",
        "    data=top10,\n",
        "    y='name',\n",
        "    x='total_rating',\n",
        "    hue='name',\n",
        "    palette=palette,\n",
        "    dodge=False,\n",
        "    legend=False\n",
        ")\n",
        "\n",
        "# Tambahkan label pada setiap batang\n",
        "for i, val in enumerate(top10['total_rating']):\n",
        "    plt.text(val + 2, i, str(val), va='center', fontsize=12)\n",
        "\n",
        "# Judul dan label\n",
        "plt.title('Distribusi Sebaran Rating dari 10 Anime dengan Jumlah Rating Terbanyak', fontsize=20, weight='bold')\n",
        "plt.xlabel('Jumlah Rating', fontsize=14)\n",
        "plt.ylabel('Judul Anime', fontsize=14)\n",
        "\n",
        "# Desain tambahan\n",
        "sns.despine(left=True, bottom=True)  # Hilangkan sumbu kiri dan bawah\n",
        "plt.grid(axis='x', linestyle='--', alpha=0.7)  # Grid sumbu x\n",
        "\n",
        "plt.tight_layout()\n",
        "plt.show()\n"
      ],
      "metadata": {
        "colab": {
          "base_uri": "https://localhost:8080/",
          "height": 1000
        },
        "id": "OqfwVkiHykrq",
        "outputId": "4d683410-d544-4ea5-ce6a-45d303e78485"
      },
      "execution_count": 47,
      "outputs": [
        {
          "output_type": "display_data",
          "data": {
            "text/plain": [
              "<Figure size 1500x1000 with 1 Axes>"
            ],
            "image/png": "[encoded data removed]"
          },
          "metadata": {}
        }
      ]
    },
    {
      "cell_type": "markdown",
      "source": [
        "### Hasil Proses :\n",
        "EDA akan mengungkap pola distribusi rating yang menunjukkan dominasi anime populer dan long-tail distribution\n",
        "\n",
        "**Hasil**: ✅ Berhasil - Top 10 anime dengan rating terbanyak: Sword Art Online (1292 ratings), Death Note (854), Steins Gate (779)\n",
        "\n"
      ],
      "metadata": {
        "id": "Hk9sVVvhwCoO"
      }
    },
    {
      "cell_type": "markdown",
      "source": [
        "# Cell 9 - Collaborative Filtering: Data Cleaning & Encoding"
      ],
      "metadata": {
        "id": "VIrt3lO7ywoa"
      }
    },
    {
      "cell_type": "markdown",
      "source": [
        "### Penjelasan Proses:\n",
        "- **Missing Value Check**: Validasi dan penanganan missing values dalam dataset\n",
        "- **Duplicate Removal**: Menghapus duplikasi rating dari user yang sama untuk anime yang sama\n",
        "- **ID Encoding**: Mengubah user_id dan anime_id menjadi sequential integers untuk efisiensi model\n",
        "- **Statistical Summary**: Menghitung statistik dasar dataset untuk validasi\n"
      ],
      "metadata": {
        "id": "oOmgsJP7wlaB"
      }
    },
    {
      "cell_type": "code",
      "source": [
        "print(rating_anime.isnull().sum())\n",
        "print(rating_anime.duplicated().sum())\n",
        "\n",
        "# Drop duplicates on user_id & anime_id combination\n",
        "rating_anime.drop_duplicates(subset=['user_id','anime_id'], keep='first', inplace=True)\n",
        "\n",
        "# Encode user_id and anime_id\n",
        "user_ids = rating_anime['user_id'].unique().tolist()\n",
        "user_to_user_encoded = {x: i for i, x in enumerate(user_ids)}\n",
        "user_encoded_to_user = {i: x for i, x in enumerate(user_ids)}\n",
        "\n",
        "anime_ids = rating_anime['anime_id'].unique().tolist()\n",
        "anime_to_anime_encoded = {x: i for i, x in enumerate(anime_ids)}\n",
        "anime_encoded_to_anime = {i: x for i, x in enumerate(anime_ids)}\n",
        "\n",
        "rating_anime['user'] = rating_anime['user_id'].map(user_to_user_encoded)\n",
        "rating_anime['anime'] = rating_anime['anime_id'].map(anime_to_anime_encoded)\n",
        "\n",
        "num_users = len(user_to_user_encoded)\n",
        "num_anime = len(anime_to_anime_encoded)\n",
        "rating_anime['rating'] = rating_anime['rating'].astype(np.float32)\n",
        "\n",
        "min_rating = rating_anime['rating'].min()\n",
        "max_rating = rating_anime['rating'].max()\n",
        "\n",
        "print(f'Number of users: {num_users}')\n",
        "print(f'Number of anime: {num_anime}')\n",
        "print(f'Min rating: {min_rating}')\n",
        "print(f'Max rating: {max_rating}')\n"
      ],
      "metadata": {
        "colab": {
          "base_uri": "https://localhost:8080/"
        },
        "id": "9kSRa9cNy02T",
        "outputId": "ae4fc61e-7f88-4d69-9803-aec7b2bf43e2"
      },
      "execution_count": 12,
      "outputs": [
        {
          "output_type": "stream",
          "name": "stdout",
          "text": [
            "user_id     0\n",
            "profile     0\n",
            "anime_id    0\n",
            "text        0\n",
            "rating      0\n",
            "scores      0\n",
            "link        0\n",
            "name        0\n",
            "Genres      0\n",
            "dtype: int64\n",
            "61584\n",
            "Number of users: 130488\n",
            "Number of anime: 8107\n",
            "Min rating: 0.0\n",
            "Max rating: 11.0\n"
          ]
        }
      ]
    },
    {
      "cell_type": "markdown",
      "source": [
        "### Hasil Proses :\n",
        "---\n",
        "\n",
        "### 📊 **Penjelasan Hasil Proses Eksplorasi Data**\n",
        "\n",
        "#### ✅ **Informasi Missing Value**\n",
        "\n",
        "Output menunjukkan bahwa **tidak ada nilai yang hilang** (`0 missing values`) pada seluruh kolom dataset, seperti `user_id`, `anime_id`, `rating`, `name`, dan `Genres`. Artinya, tidak diperlukan proses imputasi (pengisian nilai kosong), sehingga data siap langsung digunakan untuk pelatihan model machine learning.\n",
        "\n",
        "#### 🔢 **Jumlah Interaksi**\n",
        "\n",
        "Dataset ini terdiri dari **61.584 interaksi unik** antara pengguna dan anime. Setiap baris merepresentasikan satu interaksi (misalnya, rating atau ulasan dari seorang pengguna terhadap satu anime).\n",
        "\n",
        "#### 👤 **Jumlah Pengguna**\n",
        "\n",
        "Terdapat sebanyak **130.488 pengguna unik** yang terlibat dalam memberikan rating atau ulasan pada anime. Ini menunjukkan bahwa data memiliki jangkauan pengguna yang luas, meskipun sebagian besar pengguna hanya memberi sedikit interaksi (karakteristik umum pada data sistem rekomendasi).\n",
        "\n",
        "#### 🎞️ **Jumlah Anime**\n",
        "\n",
        "Terdapat **8.107 anime unik** dalam dataset. Ini menunjukkan bahwa sistem rekomendasi yang dibangun dapat bekerja dengan ruang item (item space) yang besar dan beragam.\n",
        "\n",
        "#### 🧮 **Distribusi Rating**\n",
        "\n",
        "* **Rating minimum**: 0.0\n",
        "* **Rating maksimum**: 11.0\n",
        "\n",
        "Ini menunjukkan bahwa rentang rating pengguna tidak terbatas pada skala 1–10 seperti yang biasa digunakan, sehingga perlu diperhatikan pada tahap **normalisasi**, terutama jika model rekomendasi akan menggunakan fungsi aktivasi seperti sigmoid (yang menghasilkan output di rentang 0–1).\n",
        "\n",
        "---\n"
      ],
      "metadata": {
        "id": "NpagteHuwoM4"
      }
    },
    {
      "cell_type": "markdown",
      "metadata": {
        "id": "-V4p3AA3gIW8"
      },
      "source": [
        "# Cell 10 - Collaborative Filtering: Train-Test Split Preparation"
      ]
    },
    {
      "cell_type": "markdown",
      "source": [
        "### Penjelasan Proses:\n",
        "- **Data Shuffling**: Mengacak urutan data dengan random seed untuk reproducibility\n",
        "- **Feature Extraction**: Memisahkan features (user, anime) dan target (rating)\n",
        "- **Rating Normalization**: Menormalisasi rating ke rentang 0-1 untuk stabilitas training\n",
        "- **Split Strategy**: Membagi data menjadi train (80%) dan validation (20%)\n"
      ],
      "metadata": {
        "id": "psUxnnVHxne6"
      }
    },
    {
      "cell_type": "code",
      "source": [
        "# Shuffle dataset secara acak dengan seed untuk reproduksibilitas\n",
        "rating_anime = rating_anime.sample(frac=1.0, random_state=30).reset_index(drop=True)\n",
        "\n",
        "# Ekstraksi fitur dan label\n",
        "X = rating_anime[['user', 'anime']].values\n",
        "\n",
        "# Normalisasi rating ke rentang 0-1\n",
        "min_rating = rating_anime['rating'].min()\n",
        "max_rating = rating_anime['rating'].max()\n",
        "y = rating_anime['rating'].apply(lambda r: (r - min_rating) / (max_rating - min_rating)).values\n",
        "\n",
        "# Tentukan ukuran data latih\n",
        "train_ratio = 0.8\n",
        "train_size = int(train_ratio * len(rating_anime))\n",
        "\n",
        "# Split data menjadi train dan validation\n",
        "X_train, X_val = X[:train_size], X[train_size:]\n",
        "y_train, y_val = y[:train_size], y[train_size:]\n",
        "\n",
        "# Info tambahan opsional\n",
        "print(f\"Total data: {len(rating_anime)}\")\n",
        "print(f\"Train: {len(X_train)} | Validation: {len(X_val)}\")"
      ],
      "metadata": {
        "colab": {
          "base_uri": "https://localhost:8080/"
        },
        "id": "wySZzjm6zDwa",
        "outputId": "8cf4131d-9143-45e0-f3e5-4b0740e7c243"
      },
      "execution_count": 13,
      "outputs": [
        {
          "output_type": "stream",
          "name": "stdout",
          "text": [
            "Total data: 130488\n",
            "Train: 104390 | Validation: 26098\n"
          ]
        }
      ]
    },
    {
      "cell_type": "markdown",
      "source": [
        "### Hasil Proses :\n",
        "\n",
        "---\n",
        "\n",
        "### 🔄 **Pembagian Data untuk Pelatihan dan Validasi**\n",
        "\n",
        "#### 📦 **Total Data**\n",
        "\n",
        "Terdapat **130.488 data interaksi** antara pengguna dan anime. Setiap data merepresentasikan satu aktivitas pengguna terhadap suatu anime (misalnya memberikan rating atau ulasan).\n",
        "\n",
        "#### 🧠 **Data Pelatihan (Training Set)**\n",
        "\n",
        "Sebanyak **104.390 data (80%)** digunakan sebagai data pelatihan. Data ini digunakan oleh model untuk **mempelajari pola-pola interaksi antara pengguna dan anime**, sehingga model dapat memahami preferensi pengguna berdasarkan riwayat interaksi sebelumnya.\n",
        "\n",
        "#### 📏 **Data Validasi (Validation Set)**\n",
        "\n",
        "Sebanyak **26.098 data (20%)** digunakan sebagai data validasi. Tujuannya adalah untuk **mengukur kinerja model terhadap data yang belum pernah dilihat sebelumnya** selama pelatihan, sehingga dapat membantu memantau apakah model mengalami overfitting atau tidak.\n",
        "\n",
        "#### ⚙️ **Rasio Split**\n",
        "\n",
        "Data dibagi menggunakan rasio **80:20**, yang merupakan praktik umum dalam pelatihan model machine learning untuk menjaga keseimbangan antara pembelajaran dan evaluasi.\n",
        "\n",
        "---\n"
      ],
      "metadata": {
        "id": "wveseZV-xptP"
      }
    },
    {
      "cell_type": "markdown",
      "metadata": {
        "id": "R3t3GTi6lEuO"
      },
      "source": [
        "# Cell 11 : Model Architecture Definition\n"
      ]
    },
    {
      "cell_type": "markdown",
      "source": [
        "### Penjelasan Proses:\n",
        "- **Embedding Layers**: Membuat embedding untuk user dan anime dengan regularization L2\n",
        "- **Bias Terms**: Menambahkan bias untuk setiap user dan anime untuk menangkap preferensi individual\n",
        "- **Matrix Factorization**: Implementasi collaborative filtering menggunakan neural embedding approach\n",
        "- **Activation Function**: Menggunakan sigmoid untuk output dalam rentang [0,1]\n"
      ],
      "metadata": {
        "id": "bBoPFh9Izrh4"
      }
    },
    {
      "cell_type": "markdown",
      "source": [
        "## Collaborative Filtering: Train-Test Split Preparation"
      ],
      "metadata": {
        "id": "qb6labFlzANz"
      }
    },
    {
      "cell_type": "code",
      "execution_count": 14,
      "metadata": {
        "id": "2PDvs6EaSnY0"
      },
      "outputs": [],
      "source": [
        "class RecommenderNet(tf.keras.Model):\n",
        "    def __init__(self, num_users, num_anime, embedding_size=50, verbose=False, **kwargs):\n",
        "        super(RecommenderNet, self).__init__(**kwargs)\n",
        "        self.verbose = verbose  # Tambahkan flag untuk aktifkan output debug\n",
        "\n",
        "        # User embedding & bias\n",
        "        self.user_embedding = layers.Embedding(\n",
        "            input_dim=num_users,\n",
        "            output_dim=embedding_size,\n",
        "            embeddings_initializer='he_normal',\n",
        "            embeddings_regularizer=keras.regularizers.l2(1e-6),  # FIXED: Regularization\n",
        "            name=\"user_embedding\"\n",
        "        )\n",
        "        self.user_bias = layers.Embedding(\n",
        "            input_dim=num_users,\n",
        "            output_dim=1,\n",
        "            name=\"user_bias\"\n",
        "        )\n",
        "\n",
        "        # Anime embedding & bias\n",
        "        self.anime_embedding = layers.Embedding(\n",
        "            input_dim=num_anime,\n",
        "            output_dim=embedding_size,\n",
        "            embeddings_initializer='he_normal',\n",
        "            embeddings_regularizer=keras.regularizers.l2(1e-6),  # FIXED: Regularization\n",
        "            name=\"anime_embedding\"\n",
        "        )\n",
        "        self.anime_bias = layers.Embedding(\n",
        "            input_dim=num_anime,\n",
        "            output_dim=1,\n",
        "            name=\"anime_bias\"\n",
        "        )\n",
        "\n",
        "    def call(self, inputs):\n",
        "        inputs = tf.cast(inputs, tf.int32)\n",
        "        user_id = inputs[:, 0]\n",
        "        anime_id = inputs[:, 1]\n",
        "\n",
        "        user_vector = self.user_embedding(user_id)\n",
        "        user_bias = self.user_bias(user_id)\n",
        "\n",
        "        anime_vector = self.anime_embedding(anime_id)\n",
        "        anime_bias = self.anime_bias(anime_id)\n",
        "\n",
        "        dot_user_anime = tf.reduce_sum(user_vector * anime_vector, axis=1, keepdims=True)\n",
        "        x = dot_user_anime + user_bias + anime_bias\n",
        "        output = tf.nn.sigmoid(x)\n",
        "\n",
        "        # DEBUG OUTPUT (kondisional)\n",
        "        if self.verbose:\n",
        "            tf.print(\"=======================\")\n",
        "            tf.print(\"User ID:\", user_id)\n",
        "            tf.print(\"Anime ID:\", anime_id)\n",
        "            tf.print(\"User Vector:\", user_vector[0], summarize=10)\n",
        "            tf.print(\"Anime Vector:\", anime_vector[0], summarize=10)\n",
        "            tf.print(\"Dot Product:\", dot_user_anime)\n",
        "            tf.print(\"User Bias:\", user_bias)\n",
        "            tf.print(\"Anime Bias:\", anime_bias)\n",
        "            tf.print(\"Output Sebelum Sigmoid:\", x)\n",
        "            tf.print(\"Output Akhir (Sigmoid):\", output)\n",
        "            tf.print(\"=======================\")\n",
        "\n",
        "        return output"
      ]
    },
    {
      "cell_type": "markdown",
      "source": [
        "## Data Preparation & Encoding"
      ],
      "metadata": {
        "id": "0mABVTLt0hay"
      }
    },
    {
      "cell_type": "code",
      "source": [
        "# Encode user_id ke angka\n",
        "user_ids = rating_anime['user_id'].unique().tolist()\n",
        "user2user_encoded = {x: i for i, x in enumerate(user_ids)}\n",
        "rating_anime['user'] = rating_anime['user_id'].map(user2user_encoded)\n",
        "\n",
        "# Encode anime_id ke angka\n",
        "anime_ids = rating_anime['anime_id'].unique().tolist()\n",
        "anime2anime_encoded = {x: i for i, x in enumerate(anime_ids)}\n",
        "rating_anime['anime'] = rating_anime['anime_id'].map(anime2anime_encoded)\n",
        "\n",
        "# Info: jumlah user dan anime unik\n",
        "num_users = len(user_ids)\n",
        "num_anime = len(anime_ids)\n",
        "print(f\"Total unique users: {num_users}\")\n",
        "print(f\"Total unique anime: {num_anime}\")\n",
        "\n",
        "# Normalisasi rating ke [0, 1]\n",
        "min_rating = rating_anime['rating'].min()\n",
        "max_rating = rating_anime['rating'].max()\n",
        "\n",
        "rating_anime['rating'] = rating_anime['rating'].astype(np.float32)\n",
        "rating_anime['rating_normalized'] = rating_anime['rating'].apply(\n",
        "    lambda x: (x - min_rating) / (max_rating - min_rating)\n",
        ")\n",
        "\n",
        "# Output info tambahan\n",
        "print(f\"Min rating: {min_rating}\")\n",
        "print(f\"Max rating: {max_rating}\")\n",
        "print(\"Contoh rating sebelum dan sesudah normalisasi:\")\n",
        "print(rating_anime[['rating', 'rating_normalized']].head())"
      ],
      "metadata": {
        "colab": {
          "base_uri": "https://localhost:8080/"
        },
        "id": "I3q4EDZs0slK",
        "outputId": "1a7e52d4-9690-466c-c9f2-544f859e8719"
      },
      "execution_count": 15,
      "outputs": [
        {
          "output_type": "stream",
          "name": "stdout",
          "text": [
            "Total unique users: 130488\n",
            "Total unique anime: 8107\n",
            "Min rating: 0.0\n",
            "Max rating: 11.0\n",
            "Contoh rating sebelum dan sesudah normalisasi:\n",
            "   rating  rating_normalized\n",
            "0     7.0           0.636364\n",
            "1     8.0           0.727273\n",
            "2     7.0           0.636364\n",
            "3     9.0           0.818182\n",
            "4    10.0           0.909091\n"
          ]
        }
      ]
    },
    {
      "cell_type": "markdown",
      "source": [
        "## Prepare Training Data"
      ],
      "metadata": {
        "id": "ZBRa_W5UJTaB"
      }
    },
    {
      "cell_type": "code",
      "source": [
        "# Gunakan data yang sudah diproses dari Cell 11\n",
        "x_train = X_train\n",
        "x_val = X_val\n",
        "y_train = y_train\n",
        "y_val = y_val\n",
        "\n",
        "print(f\"Training data shape: {x_train.shape}\")\n",
        "print(f\"Validation data shape: {x_val.shape}\")"
      ],
      "metadata": {
        "colab": {
          "base_uri": "https://localhost:8080/"
        },
        "id": "SyNe0qNhJdgo",
        "outputId": "4e877239-24c8-4da1-a06d-6bf58a018a21"
      },
      "execution_count": 16,
      "outputs": [
        {
          "output_type": "stream",
          "name": "stdout",
          "text": [
            "Training data shape: (104390, 2)\n",
            "Validation data shape: (26098, 2)\n"
          ]
        }
      ]
    },
    {
      "cell_type": "markdown",
      "source": [
        "\n",
        "## Define Model Class"
      ],
      "metadata": {
        "id": "mEM2HbrM1JEC"
      }
    },
    {
      "cell_type": "code",
      "source": [
        "class RecommenderNet(tf.keras.Model):\n",
        "    def __init__(self, num_users, num_anime, embedding_size=64, verbose=False, **kwargs):\n",
        "        super(RecommenderNet, self).__init__(**kwargs)\n",
        "        self.verbose = verbose\n",
        "\n",
        "        # User embedding & bias\n",
        "        self.user_embedding = layers.Embedding(\n",
        "            input_dim=num_users,\n",
        "            output_dim=embedding_size,\n",
        "            embeddings_initializer='he_normal',\n",
        "            embeddings_regularizer=keras.regularizers.l2(1e-6),\n",
        "            name=\"user_embedding\"\n",
        "        )\n",
        "        self.user_bias = layers.Embedding(\n",
        "            input_dim=num_users,\n",
        "            output_dim=1,\n",
        "            name=\"user_bias\"\n",
        "        )\n",
        "\n",
        "        # Anime embedding & bias\n",
        "        self.anime_embedding = layers.Embedding(\n",
        "            input_dim=num_anime,\n",
        "            output_dim=embedding_size,\n",
        "            embeddings_initializer='he_normal',\n",
        "            embeddings_regularizer=keras.regularizers.l2(1e-6),\n",
        "            name=\"anime_embedding\"\n",
        "        )\n",
        "        self.anime_bias = layers.Embedding(\n",
        "            input_dim=num_anime,\n",
        "            output_dim=1,\n",
        "            name=\"anime_bias\"\n",
        "        )\n",
        "\n",
        "    def call(self, inputs):\n",
        "        inputs = tf.cast(inputs, tf.int32)\n",
        "        user_id = inputs[:, 0]\n",
        "        anime_id = inputs[:, 1]\n",
        "\n",
        "        user_vector = self.user_embedding(user_id)\n",
        "        user_bias = self.user_bias(user_id)\n",
        "\n",
        "        anime_vector = self.anime_embedding(anime_id)\n",
        "        anime_bias = self.anime_bias(anime_id)\n",
        "\n",
        "        dot_user_anime = tf.reduce_sum(user_vector * anime_vector, axis=1, keepdims=True)\n",
        "        x = dot_user_anime + user_bias + anime_bias\n",
        "        output = tf.nn.sigmoid(x)\n",
        "\n",
        "        # DEBUG OUTPUT (kondisional)\n",
        "        if self.verbose:\n",
        "            tf.print(\"=======================\")\n",
        "            tf.print(\"User ID:\", user_id)\n",
        "            tf.print(\"Anime ID:\", anime_id)\n",
        "            tf.print(\"Dot Product:\", dot_user_anime)\n",
        "            tf.print(\"User Bias:\", user_bias)\n",
        "            tf.print(\"Anime Bias:\", anime_bias)\n",
        "            tf.print(\"Output Akhir (Sigmoid):\", output)\n",
        "            tf.print(\"=======================\")\n",
        "\n",
        "        return output"
      ],
      "metadata": {
        "id": "L2bgbhiV1Lpr"
      },
      "execution_count": 17,
      "outputs": []
    },
    {
      "cell_type": "markdown",
      "source": [
        "### ⚙️ **Informasi Data dan Normalisasi Rating**\n",
        "\n",
        "#### 👥 **Jumlah Entitas**\n",
        "\n",
        "* **Total pengguna unik (user):** 130.488\n",
        "* **Total anime unik:** 8.107\n",
        "\n",
        "Hal ini menunjukkan bahwa dataset mencakup interaksi antara banyak pengguna dan berbagai judul anime yang berbeda, yang memberikan keragaman cukup untuk melatih sistem rekomendasi.\n",
        "\n",
        "#### 📊 **Distribusi Rating**\n",
        "\n",
        "* **Rating minimum:** 0.0\n",
        "* **Rating maksimum:** 11.0\n",
        "\n",
        "Skor diberikan dalam rentang 0 hingga 11, yang **di luar skala umum 1–10**. Oleh karena itu, dilakukan proses **normalisasi** agar skala penilaian menjadi seragam, khususnya untuk digunakan dalam model pembelajaran mesin.\n",
        "\n",
        "#### 🧮 **Contoh Normalisasi Rating**\n",
        "\n",
        "| rating (asli) | rating\\_normalized |\n",
        "| ------------- | ------------------ |\n",
        "| 7.0           | 0.636              |\n",
        "| 8.0           | 0.727              |\n",
        "| 9.0           | 0.818              |\n",
        "| 10.0          | 0.909              |\n",
        "\n",
        "Normalisasi dilakukan dengan rumus:\n",
        "\n",
        "```\n",
        "rating_normalized = rating / max_rating\n",
        "```\n",
        "\n",
        "Sehingga seluruh nilai rating berada dalam rentang **\\[0, 1]**.\n",
        "\n",
        "---\n",
        "\n",
        "### 🔄 **Pembagian Data Pelatihan dan Validasi**\n",
        "\n",
        "* **Ukuran data pelatihan:** 104.390 (fitur: user dan anime)\n",
        "* **Ukuran data validasi:** 26.098\n",
        "\n",
        "Data dibagi dengan rasio **80:20**. Pembagian ini bertujuan agar model dapat dilatih secara optimal, dan dievaluasi secara obyektif terhadap data yang tidak digunakan selama proses pelatihan.\n",
        "\n",
        "---"
      ],
      "metadata": {
        "id": "VrP2qkPEz0gK"
      }
    },
    {
      "cell_type": "markdown",
      "source": [
        "\n",
        "# Cell 15: Compile & Train Model"
      ],
      "metadata": {
        "id": "_BQYUHMZ1OTT"
      }
    },
    {
      "cell_type": "markdown",
      "source": [
        "### Penjelasan Proses:\n",
        "- **Loss Function**: Menggunakan Mean Squared Error untuk regression task\n",
        "- **Optimizer**: Adam optimizer dengan learning rate yang optimal\n",
        "- **Metrics**: Monitoring MAE dan RMSE untuk evaluasi comprehensive\n",
        "- **Callbacks**: Early stopping dan learning rate reduction untuk training yang efisien\n",
        "\n"
      ],
      "metadata": {
        "id": "F5zXqWHZ0gw9"
      }
    },
    {
      "cell_type": "code",
      "source": [
        "model = RecommenderNet(num_users, num_anime, embedding_size=50, verbose=False)\n",
        "\n",
        "model.compile(\n",
        "    loss=tf.keras.losses.MeanSquaredError(),\n",
        "    optimizer=keras.optimizers.Adam(learning_rate=0.001),  # FIXED: Learning rate dinaikkan\n",
        "    metrics=[\n",
        "        tf.keras.metrics.MeanAbsoluteError(name='MAE'),\n",
        "        tf.keras.metrics.RootMeanSquaredError(name='RMSE') # ADDED: RMSE metric\n",
        "    ]\n",
        ")\n",
        "\n",
        "early_stop = keras.callbacks.EarlyStopping(\n",
        "    monitor='val_MAE',  # FIXED: Monitor MAE langsung\n",
        "    patience=10,  # FIXED: Patience ditambah\n",
        "    restore_best_weights=True,\n",
        "    verbose=1,\n",
        "    mode='min'\n",
        ")\n",
        "reduce_lr = keras.callbacks.ReduceLROnPlateau(\n",
        "    monitor='val_MAE',  # FIXED: Monitor MAE langsung\n",
        "    factor=0.5,\n",
        "    patience=5,  # FIXED: Patience dikurangi\n",
        "    verbose=1,\n",
        "    mode='min',\n",
        "    min_lr=1e-6\n",
        ")\n",
        "\n",
        "history = model.fit(\n",
        "    x_train,\n",
        "    y_train,\n",
        "    batch_size=128,  # FIXED: Batch size diperbesar\n",
        "    epochs=100,\n",
        "    validation_data=(x_val, y_val),\n",
        "    callbacks=[early_stop, reduce_lr],\n",
        "    verbose=2\n",
        ")"
      ],
      "metadata": {
        "colab": {
          "base_uri": "https://localhost:8080/"
        },
        "id": "BoUNkKEj1QAU",
        "outputId": "56285c4a-4844-4adc-9714-dcf5fc261ac2"
      },
      "execution_count": 19,
      "outputs": [
        {
          "output_type": "stream",
          "name": "stdout",
          "text": [
            "Epoch 1/100\n",
            "816/816 - 105s - 129ms/step - MAE: 0.2241 - RMSE: 0.2540 - loss: 0.0646 - val_MAE: 0.2115 - val_RMSE: 0.2407 - val_loss: 0.0580 - learning_rate: 0.0010\n",
            "Epoch 2/100\n",
            "816/816 - 125s - 154ms/step - MAE: 0.1968 - RMSE: 0.2264 - loss: 0.0517 - val_MAE: 0.1937 - val_RMSE: 0.2235 - val_loss: 0.0505 - learning_rate: 0.0010\n",
            "Epoch 3/100\n",
            "816/816 - 83s - 102ms/step - MAE: 0.1670 - RMSE: 0.1983 - loss: 0.0411 - val_MAE: 0.1831 - val_RMSE: 0.2137 - val_loss: 0.0482 - learning_rate: 0.0010\n",
            "Epoch 4/100\n",
            "816/816 - 145s - 178ms/step - MAE: 0.1341 - RMSE: 0.1694 - loss: 0.0322 - val_MAE: 0.1769 - val_RMSE: 0.2081 - val_loss: 0.0476 - learning_rate: 0.0010\n",
            "Epoch 5/100\n",
            "816/816 - 159s - 195ms/step - MAE: 0.1143 - RMSE: 0.1497 - loss: 0.0273 - val_MAE: 0.1721 - val_RMSE: 0.2040 - val_loss: 0.0471 - learning_rate: 0.0010\n",
            "Epoch 6/100\n",
            "816/816 - 136s - 167ms/step - MAE: 0.1030 - RMSE: 0.1372 - loss: 0.0244 - val_MAE: 0.1681 - val_RMSE: 0.2008 - val_loss: 0.0462 - learning_rate: 0.0010\n",
            "Epoch 7/100\n",
            "816/816 - 142s - 174ms/step - MAE: 0.0952 - RMSE: 0.1282 - loss: 0.0223 - val_MAE: 0.1647 - val_RMSE: 0.1982 - val_loss: 0.0454 - learning_rate: 0.0010\n",
            "Epoch 8/100\n",
            "816/816 - 135s - 166ms/step - MAE: 0.0891 - RMSE: 0.1212 - loss: 0.0207 - val_MAE: 0.1618 - val_RMSE: 0.1961 - val_loss: 0.0446 - learning_rate: 0.0010\n",
            "Epoch 9/100\n",
            "816/816 - 143s - 175ms/step - MAE: 0.0843 - RMSE: 0.1154 - loss: 0.0193 - val_MAE: 0.1595 - val_RMSE: 0.1946 - val_loss: 0.0440 - learning_rate: 0.0010\n",
            "Epoch 10/100\n",
            "816/816 - 92s - 113ms/step - MAE: 0.0800 - RMSE: 0.1104 - loss: 0.0181 - val_MAE: 0.1578 - val_RMSE: 0.1935 - val_loss: 0.0435 - learning_rate: 0.0010\n",
            "Epoch 11/100\n",
            "816/816 - 87s - 106ms/step - MAE: 0.0765 - RMSE: 0.1061 - loss: 0.0171 - val_MAE: 0.1563 - val_RMSE: 0.1926 - val_loss: 0.0430 - learning_rate: 0.0010\n",
            "Epoch 12/100\n",
            "816/816 - 139s - 171ms/step - MAE: 0.0733 - RMSE: 0.1025 - loss: 0.0162 - val_MAE: 0.1553 - val_RMSE: 0.1920 - val_loss: 0.0427 - learning_rate: 0.0010\n",
            "Epoch 13/100\n",
            "816/816 - 146s - 179ms/step - MAE: 0.0701 - RMSE: 0.0988 - loss: 0.0153 - val_MAE: 0.1544 - val_RMSE: 0.1915 - val_loss: 0.0423 - learning_rate: 0.0010\n",
            "Epoch 14/100\n",
            "816/816 - 140s - 171ms/step - MAE: 0.0676 - RMSE: 0.0958 - loss: 0.0146 - val_MAE: 0.1538 - val_RMSE: 0.1911 - val_loss: 0.0420 - learning_rate: 0.0010\n",
            "Epoch 15/100\n",
            "816/816 - 140s - 171ms/step - MAE: 0.0650 - RMSE: 0.0930 - loss: 0.0139 - val_MAE: 0.1533 - val_RMSE: 0.1909 - val_loss: 0.0417 - learning_rate: 0.0010\n",
            "Epoch 16/100\n",
            "816/816 - 144s - 177ms/step - MAE: 0.0625 - RMSE: 0.0903 - loss: 0.0132 - val_MAE: 0.1529 - val_RMSE: 0.1907 - val_loss: 0.0415 - learning_rate: 0.0010\n",
            "Epoch 17/100\n",
            "816/816 - 137s - 168ms/step - MAE: 0.0603 - RMSE: 0.0879 - loss: 0.0126 - val_MAE: 0.1526 - val_RMSE: 0.1905 - val_loss: 0.0413 - learning_rate: 0.0010\n",
            "Epoch 18/100\n",
            "816/816 - 91s - 112ms/step - MAE: 0.0582 - RMSE: 0.0855 - loss: 0.0121 - val_MAE: 0.1524 - val_RMSE: 0.1904 - val_loss: 0.0410 - learning_rate: 0.0010\n",
            "Epoch 19/100\n",
            "816/816 - 141s - 173ms/step - MAE: 0.0562 - RMSE: 0.0834 - loss: 0.0115 - val_MAE: 0.1523 - val_RMSE: 0.1904 - val_loss: 0.0408 - learning_rate: 0.0010\n",
            "Epoch 20/100\n",
            "816/816 - 88s - 108ms/step - MAE: 0.0542 - RMSE: 0.0812 - loss: 0.0110 - val_MAE: 0.1522 - val_RMSE: 0.1903 - val_loss: 0.0406 - learning_rate: 0.0010\n",
            "Epoch 21/100\n",
            "816/816 - 138s - 169ms/step - MAE: 0.0524 - RMSE: 0.0793 - loss: 0.0105 - val_MAE: 0.1522 - val_RMSE: 0.1903 - val_loss: 0.0404 - learning_rate: 0.0010\n",
            "Epoch 22/100\n",
            "816/816 - 141s - 173ms/step - MAE: 0.0506 - RMSE: 0.0774 - loss: 0.0100 - val_MAE: 0.1522 - val_RMSE: 0.1903 - val_loss: 0.0403 - learning_rate: 0.0010\n",
            "Epoch 23/100\n",
            "816/816 - 145s - 177ms/step - MAE: 0.0490 - RMSE: 0.0756 - loss: 0.0096 - val_MAE: 0.1522 - val_RMSE: 0.1903 - val_loss: 0.0401 - learning_rate: 0.0010\n",
            "Epoch 24/100\n",
            "\n",
            "Epoch 24: ReduceLROnPlateau reducing learning rate to 0.0005000000237487257.\n",
            "816/816 - 137s - 168ms/step - MAE: 0.0474 - RMSE: 0.0740 - loss: 0.0092 - val_MAE: 0.1523 - val_RMSE: 0.1904 - val_loss: 0.0399 - learning_rate: 0.0010\n",
            "Epoch 25/100\n",
            "816/816 - 143s - 175ms/step - MAE: 0.0433 - RMSE: 0.0696 - loss: 0.0084 - val_MAE: 0.1523 - val_RMSE: 0.1904 - val_loss: 0.0397 - learning_rate: 5.0000e-04\n",
            "Epoch 26/100\n",
            "816/816 - 147s - 180ms/step - MAE: 0.0423 - RMSE: 0.0689 - loss: 0.0081 - val_MAE: 0.1524 - val_RMSE: 0.1904 - val_loss: 0.0396 - learning_rate: 5.0000e-04\n",
            "Epoch 27/100\n",
            "816/816 - 82s - 100ms/step - MAE: 0.0416 - RMSE: 0.0683 - loss: 0.0079 - val_MAE: 0.1524 - val_RMSE: 0.1905 - val_loss: 0.0395 - learning_rate: 5.0000e-04\n",
            "Epoch 28/100\n",
            "816/816 - 142s - 174ms/step - MAE: 0.0411 - RMSE: 0.0677 - loss: 0.0077 - val_MAE: 0.1525 - val_RMSE: 0.1905 - val_loss: 0.0394 - learning_rate: 5.0000e-04\n",
            "Epoch 29/100\n",
            "\n",
            "Epoch 29: ReduceLROnPlateau reducing learning rate to 0.0002500000118743628.\n",
            "816/816 - 149s - 183ms/step - MAE: 0.0405 - RMSE: 0.0671 - loss: 0.0076 - val_MAE: 0.1525 - val_RMSE: 0.1905 - val_loss: 0.0393 - learning_rate: 5.0000e-04\n",
            "Epoch 30/100\n",
            "816/816 - 140s - 172ms/step - MAE: 0.0383 - RMSE: 0.0649 - loss: 0.0072 - val_MAE: 0.1525 - val_RMSE: 0.1905 - val_loss: 0.0393 - learning_rate: 2.5000e-04\n",
            "Epoch 31/100\n",
            "816/816 - 139s - 171ms/step - MAE: 0.0381 - RMSE: 0.0647 - loss: 0.0071 - val_MAE: 0.1526 - val_RMSE: 0.1906 - val_loss: 0.0392 - learning_rate: 2.5000e-04\n",
            "Epoch 31: early stopping\n",
            "Restoring model weights from the end of the best epoch: 21.\n"
          ]
        }
      ]
    },
    {
      "cell_type": "markdown",
      "source": [
        "### 📈 **Proses Pelatihan Model Collaborative Filtering**\n",
        "\n",
        "Model dilatih selama maksimal **100 epoch** menggunakan data interaksi antara user dan anime. Namun, pelatihan dihentikan lebih awal (**early stopping**) pada epoch ke-31 untuk mencegah overfitting. Model secara otomatis mengembalikan bobot terbaik dari epoch ke-21.\n",
        "\n",
        "#### 🔍 **Detail Arsitektur dan Pengaturan Pelatihan**\n",
        "\n",
        "* **Loss function:** MSE (Mean Squared Error)\n",
        "* **Optimizer:** Adam\n",
        "* **Learning rate awal:** 0.001\n",
        "* **Scheduler:** ReduceLROnPlateau, menurunkan learning rate jika validasi loss tidak membaik\n",
        "* **Early stopping:** Aktif, berdasarkan metrik `val_loss` tanpa peningkatan selama beberapa epoch\n",
        "\n",
        "---\n",
        "\n",
        "### 📊 **Performa Model**\n",
        "\n",
        "| Epoch | Train MAE | Val MAE | Train RMSE | Val RMSE | Train Loss | Val Loss | LR      |\n",
        "| ----- | --------- | ------- | ---------- | -------- | ---------- | -------- | ------- |\n",
        "| 1     | 0.2241    | 0.2115  | 0.2540     | 0.2407   | 0.0646     | 0.0580   | 0.0010  |\n",
        "| 5     | 0.1143    | 0.1721  | 0.1497     | 0.2040   | 0.0273     | 0.0471   | 0.0010  |\n",
        "| 10    | 0.0800    | 0.1578  | 0.1104     | 0.1935   | 0.0181     | 0.0435   | 0.0010  |\n",
        "| 15    | 0.0650    | 0.1533  | 0.0930     | 0.1909   | 0.0139     | 0.0417   | 0.0010  |\n",
        "| 20    | 0.0542    | 0.1522  | 0.0812     | 0.1903   | 0.0110     | 0.0406   | 0.0010  |\n",
        "| 21    | 0.0524    | 0.1522  | 0.0793     | 0.1903   | 0.0105     | 0.0404   | 0.0010  |\n",
        "| 31    | 0.0381    | 0.1526  | 0.0647     | 0.1906   | 0.0071     | 0.0392   | 0.00025 |\n",
        "\n",
        "> 📌 **Catatan:**\n",
        ">\n",
        "> * Setelah epoch ke-24 dan ke-29, learning rate diturunkan secara otomatis oleh scheduler karena validasi loss stagnan.\n",
        "> * **MAE (Mean Absolute Error)** dan **RMSE (Root Mean Squared Error)** pada data validasi terus menurun hingga stabil di sekitar:\n",
        ">\n",
        ">   * **Val MAE:** \\~0.152\n",
        ">   * **Val RMSE:** \\~0.190\n",
        "> * Model berhenti setelah tidak ada peningkatan signifikan selama 10 epoch berturut-turut.\n",
        "\n",
        "---\n",
        "\n",
        "### ✅ **Kesimpulan**\n",
        "\n",
        "Model collaborative filtering berhasil belajar memprediksi rating dengan error relatif kecil setelah dilatih dengan efisien. Hasil akhir menunjukkan bahwa model telah cukup stabil dan generalisasi terhadap data validasi juga baik, yang ditunjukkan dengan **konvergensi metrik error** dan penggunaan teknik **learning rate scheduling** serta **early stopping** yang efektif"
      ],
      "metadata": {
        "id": "eVGt6DDT077g"
      }
    },
    {
      "cell_type": "markdown",
      "source": [
        "# Cell 16 : Evaluate Model: Mean Absolute Error (MAE)"
      ],
      "metadata": {
        "id": "X1Lv4Zt2AXEB"
      }
    },
    {
      "cell_type": "markdown",
      "source": [
        "### Penjelasan Proses:\n",
        "- **Performance Visualization**: Plot training dan validation MAE untuk monitoring overfitting\n",
        "- **Benchmark Setting**: Menetapkan threshold 10% dari rentang rating sebagai benchmark\n",
        "- **Model Evaluation**: Membandingkan MAE model dengan benchmark yang ditetapkan\n",
        "- **Performance Classification**: Kategorisasi performa model berdasarkan MAE score\n"
      ],
      "metadata": {
        "id": "_03ffcyS1I3h"
      }
    },
    {
      "cell_type": "code",
      "source": [
        "# === PLOT MAE CURVE ===\n",
        "plt.figure(figsize=(12, 6))\n",
        "plt.plot(history.history['MAE'], label='Training MAE', color='dodgerblue', linewidth=2, marker='o')\n",
        "plt.plot(history.history['val_MAE'], label='Validation MAE', color='orange', linewidth=2, marker='s')\n",
        "\n",
        "# Highlight min validation MAE\n",
        "min_val = min(history.history['val_MAE'])\n",
        "min_epoch = history.history['val_MAE'].index(min_val)\n",
        "plt.scatter(min_epoch, min_val, color='red', s=100, zorder=5)\n",
        "plt.annotate(f'Min Val MAE: {min_val:.4f}',\n",
        "             (min_epoch, min_val),\n",
        "             textcoords=\"offset points\",\n",
        "             xytext=(10, -10),\n",
        "             ha='center',\n",
        "             fontsize=10,\n",
        "             bbox=dict(boxstyle=\"round,pad=0.3\", fc=\"white\", ec=\"red\", lw=1))\n",
        "\n",
        "plt.title('Performa Model Berdasarkan MAE per Epoch', fontsize=16, fontweight='bold')\n",
        "plt.xlabel('Epoch', fontsize=12)\n",
        "plt.ylabel('Mean Absolute Error (MAE)', fontsize=12)\n",
        "plt.grid(True, linestyle='--', alpha=0.7)\n",
        "plt.legend(loc='upper right')\n",
        "plt.tight_layout()\n",
        "plt.show()\n",
        "\n",
        "# === MAE EVALUATION ===\n",
        "print(\"\\n=== Evaluasi Model ===\")\n",
        "nilai_min_y = float(min(y))\n",
        "nilai_max_y = float(max(y))\n",
        "benchmark = (nilai_max_y - nilai_min_y) * 0.1\n",
        "\n",
        "y_pred = model.predict(x_val, verbose=0)\n",
        "mae = mean_absolute_error(y_val, y_pred)\n",
        "\n",
        "print(f\"- Nilai minimum y : {nilai_min_y}\")\n",
        "print(f\"- Nilai maksimum y : {nilai_max_y}\")\n",
        "print(f\"- Benchmark MAE (10% rentang): {benchmark:.4f}\")\n",
        "print(f\"- MAE model saat ini        : {mae:.4f}\")\n",
        "\n",
        "if mae < benchmark:\n",
        "    print(\"\\n✅ Model berhasil: MAE berada di bawah benchmark (akurasi cukup baik).\")\n",
        "elif mae < 0.15:\n",
        "    print(\"\\n⚠️ Model mendekati baik: MAE sedikit di atas benchmark, bisa ditingkatkan.\")\n",
        "else:\n",
        "    print(\"\\n❌ Model masih lemah: MAE terlalu tinggi, perlu tuning lebih lanjut.\")\n"
      ],
      "metadata": {
        "colab": {
          "base_uri": "https://localhost:8080/",
          "height": 733
        },
        "id": "JFgEBYBaAaSP",
        "outputId": "00e57900-aeb5-4a95-9ec7-c466dc4969ec"
      },
      "execution_count": 25,
      "outputs": [
        {
          "output_type": "display_data",
          "data": {
            "text/plain": [
              "<Figure size 1000x600 with 1 Axes>"
            ],
            "image/png": "[encoded data removed]"
          },
          "metadata": {}
        },
        {
          "output_type": "stream",
          "name": "stdout",
          "text": [
            "\n",
            "[INFO] Menghitung metrik evaluasi...\n",
            "Nilai minimum rating (y): 0.0\n",
            "Nilai maksimum rating (y): 1.0\n",
            "Benchmark MAE (10% range): 0.1\n",
            "MAE model saat ini: 0.1522\n",
            "⚠️ Model masih perlu ditingkatkan. MAE melebihi benchmark.\n"
          ]
        }
      ]
    },
    {
      "cell_type": "markdown",
      "source": [
        "\n",
        "### 🧪 **Evaluasi Model: Mean Absolute Error (MAE)**\n",
        "\n",
        "Setelah proses pelatihan selesai, dilakukan evaluasi terhadap performa model menggunakan metrik **Mean Absolute Error (MAE)**, dengan skala rating yang telah dinormalisasi ke dalam rentang **\\[0.0, 1.0]**.\n",
        "\n",
        "---\n",
        "\n",
        "#### 📋 **Detail Evaluasi**\n",
        "\n",
        "| Parameter                      | Nilai      |\n",
        "| ------------------------------ | ---------- |\n",
        "| Rentang rating (y)             | 0.0 - 1.0  |\n",
        "| Benchmark MAE (10% dari range) | 0.1        |\n",
        "| **MAE model saat ini**         | **0.1522** |\n",
        "\n",
        "---\n",
        "\n",
        "#### ⚠️ **Catatan Penting**\n",
        "\n",
        "* **Benchmark MAE** ditetapkan sebesar **0.1**, yaitu 10% dari rentang rating yang dinormalisasi.\n",
        "* MAE model saat ini adalah **0.1522**, yang berarti **melebihi batas toleransi error** yang diharapkan.\n",
        "* Hal ini menunjukkan bahwa **akurasi prediksi model masih perlu ditingkatkan** agar sesuai standar minimum performa.\n",
        "\n",
        "---\n",
        "\n",
        "### 🛠️ **Saran Peningkatan**\n",
        "\n",
        "Beberapa langkah yang bisa dipertimbangkan untuk menurunkan MAE:\n",
        "\n",
        "1. **Feature Engineering:**\n",
        "\n",
        "   * Tambahkan fitur eksplisit lain seperti `genre`, `studio`, atau `season`.\n",
        "   * Gunakan teknik **embedding** untuk fitur non-numerik tambahan.\n",
        "\n",
        "2. **Peningkatan Arsitektur Model:**\n",
        "\n",
        "   * Coba arsitektur deep neural network yang lebih kompleks (mis. multiple dense layers dengan dropout dan batch normalization).\n",
        "   * Eksperimen dengan model hybrid (gabungkan Content-Based dan Collaborative Filtering).\n",
        "\n",
        "3. **Tuning Hyperparameter:**\n",
        "\n",
        "   * Gunakan Grid Search atau Bayesian Optimization untuk tuning learning rate, batch size, dan struktur layer.\n",
        "   * Tambahkan regularisasi (`L2`, dropout) untuk menghindari overfitting.\n",
        "\n",
        "4. **Data Augmentation:**\n",
        "\n",
        "   * Tambahkan data interaksi dari dataset eksternal (jika tersedia) untuk meningkatkan cakupan user-anime.\n",
        "\n",
        "5. **Model Alternatif:**\n",
        "\n",
        "   * Eksperimen dengan matrix factorization (mis. SVD, SVD++, NMF) atau model berbasis LightFM / Neural CF"
      ],
      "metadata": {
        "id": "mVSjEzoe1Kng"
      }
    },
    {
      "cell_type": "markdown",
      "source": [
        "# Cell 17 - Evaluate Model: Root Mean Squared Error (RMSE)"
      ],
      "metadata": {
        "id": "RfM6HVjTNcI7"
      }
    },
    {
      "cell_type": "markdown",
      "source": [
        "### Penjelasan Proses:\n",
        "- **Secondary Metric**: RMSE sebagai metric tambahan yang lebih sensitif terhadap outlier\n",
        "- **Comparative Analysis**: Membandingkan RMSE dengan benchmark yang sama seperti MAE\n",
        "- **Error Analysis**: RMSE memberikan penalty lebih besar untuk prediksi yang sangat meleset\n",
        "- **Model Robustness**: Evaluasi seberapa consistent model dalam prediksi\n"
      ],
      "metadata": {
        "id": "9s4ZEUsL189h"
      }
    },
    {
      "cell_type": "code",
      "source": [
        "# === PLOT RMSE CURVE ===\n",
        "plt.figure(figsize=(12, 6))\n",
        "plt.plot(history.history['RMSE'], label='Training RMSE', color='green', linewidth=2, marker='o')\n",
        "plt.plot(history.history['val_RMSE'], label='Validation RMSE', color='darkorange', linewidth=2, marker='s')\n",
        "\n",
        "# Highlight min val RMSE\n",
        "min_val_rmse = min(history.history['val_RMSE'])\n",
        "min_epoch_rmse = history.history['val_RMSE'].index(min_val_rmse)\n",
        "plt.scatter(min_epoch_rmse, min_val_rmse, color='red', s=100, zorder=5)\n",
        "plt.annotate(f'Min Val RMSE: {min_val_rmse:.4f}',\n",
        "             (min_epoch_rmse, min_val_rmse),\n",
        "             textcoords=\"offset points\",\n",
        "             xytext=(10, -10),\n",
        "             ha='center',\n",
        "             fontsize=10,\n",
        "             bbox=dict(boxstyle=\"round,pad=0.3\", fc=\"white\", ec=\"red\", lw=1))\n",
        "\n",
        "plt.title('Performa Model Berdasarkan RMSE per Epoch', fontsize=16, fontweight='bold')\n",
        "plt.xlabel('Epoch', fontsize=12)\n",
        "plt.ylabel('Root Mean Squared Error (RMSE)', fontsize=12)\n",
        "plt.grid(True, linestyle='--', alpha=0.7)\n",
        "plt.legend(loc='upper right')\n",
        "plt.tight_layout()\n",
        "plt.show()\n",
        "\n",
        "# === EVALUASI RMSE ===\n",
        "print(\"\\n=== Evaluasi RMSE Model ===\")\n",
        "mse = mean_squared_error(y_val, y_pred)\n",
        "rmse = np.sqrt(mse)\n",
        "\n",
        "nilai_min_y = float(min(y))\n",
        "nilai_max_y = float(max(y))\n",
        "benchmark = (nilai_max_y - nilai_min_y) * 0.1\n",
        "\n",
        "print(f\"- Nilai minimum y       : {nilai_min_y}\")\n",
        "print(f\"- Nilai maksimum y      : {nilai_max_y}\")\n",
        "print(f\"- Benchmark RMSE (10%)  : {benchmark:.4f}\")\n",
        "print(f\"- RMSE Model Saat Ini   : {rmse:.4f}\")\n",
        "\n",
        "if rmse < benchmark:\n",
        "    print(\"\\n✅ RMSE di bawah benchmark: performa model memuaskan.\")\n",
        "elif rmse < 0.18:\n",
        "    print(\"\\n⚠️ RMSE sedikit di atas benchmark: performa model cukup, masih bisa ditingkatkan.\")\n",
        "else:\n",
        "    print(\"\\n❌ RMSE terlalu tinggi: performa model kurang optimal, perlu tuning lebih lanjut.\")\n"
      ],
      "metadata": {
        "colab": {
          "base_uri": "https://localhost:8080/",
          "height": 752
        },
        "id": "L8mh_we-Nc5R",
        "outputId": "0d8d8661-f8ad-4ea2-b857-f6efa12d05a3"
      },
      "execution_count": 27,
      "outputs": [
        {
          "output_type": "display_data",
          "data": {
            "text/plain": [
              "<Figure size 1200x600 with 1 Axes>"
            ],
            "image/png": "[encoded data removed]"
          },
          "metadata": {}
        },
        {
          "output_type": "stream",
          "name": "stdout",
          "text": [
            "\n",
            "=== Evaluasi RMSE Model ===\n",
            "- Nilai minimum y       : 0.0\n",
            "- Nilai maksimum y      : 1.0\n",
            "- Benchmark RMSE (10%)  : 0.1000\n",
            "- RMSE Model Saat Ini   : 0.1903\n",
            "\n",
            "❌ RMSE terlalu tinggi: performa model kurang optimal, perlu tuning lebih lanjut.\n"
          ]
        }
      ]
    },
    {
      "cell_type": "markdown",
      "source": [
        "### 📉 **Evaluasi RMSE Model**\n",
        "\n",
        "Setelah pelatihan, dilakukan evaluasi menggunakan metrik **Root Mean Squared Error (RMSE)** pada data validasi. Sama seperti MAE, metrik ini dihitung pada rating yang telah dinormalisasi ke rentang **\\[0.0, 1.0]**.\n",
        "\n",
        "---\n",
        "\n",
        "#### 📋 **Detail Evaluasi RMSE**\n",
        "\n",
        "| Parameter                       | Nilai      |\n",
        "| ------------------------------- | ---------- |\n",
        "| Rentang rating (y)              | 0.0 - 1.0  |\n",
        "| Benchmark RMSE (10% dari range) | 0.1000     |\n",
        "| **RMSE model saat ini**         | **0.1903** |\n",
        "\n",
        "---\n",
        "\n",
        "#### ❌ **Kesimpulan**\n",
        "\n",
        "* RMSE saat ini **jauh di atas benchmark** sebesar 0.1000.\n",
        "* Hal ini menandakan bahwa **model masih memprediksi dengan error yang cukup besar**.\n",
        "* Model belum optimal dan memerlukan **perbaikan atau tuning lebih lanjut**.\n",
        "\n",
        "---\n",
        "\n",
        "### 🔧 **Rekomendasi Perbaikan**\n",
        "\n",
        "Agar nilai RMSE dapat diturunkan, berikut beberapa langkah yang dapat dilakukan:\n",
        "\n",
        "1. **Hyperparameter Tuning:**\n",
        "\n",
        "   * Ubah learning rate, batch size, jumlah neuron, dan jumlah epoch.\n",
        "   * Gunakan teknik seperti **ReduceLROnPlateau**, **EarlyStopping**, atau **Grid Search**.\n",
        "\n",
        "2. **Regularisasi Lebih Baik:**\n",
        "\n",
        "   * Tambahkan **dropout**, **L2 regularization**, atau teknik lain untuk mengurangi overfitting.\n",
        "\n",
        "3. **Peningkatan Arsitektur Model:**\n",
        "\n",
        "   * Tambahkan **lapisan dense tambahan**, atau gunakan model **deep matrix factorization** yang lebih kompleks.\n",
        "\n",
        "4. **Pemrosesan Data yang Lebih Kuat:**\n",
        "\n",
        "   * Eksplorasi fitur-fitur tambahan dari data (genre, tahun rilis, musim, studio, dsb).\n",
        "   * Gunakan **fusi fitur** dari Content-Based dan Collaborative Filtering.\n",
        "\n",
        "5. **Eksperimen Model Alternatif:**\n",
        "\n",
        "   * Coba model berbasis **Autoencoder**, **Neural Collaborative Filtering**, atau **XGBoost/LightGBM** jika data cukup representatif."
      ],
      "metadata": {
        "id": "61KzBbPE2ai5"
      }
    },
    {
      "cell_type": "markdown",
      "source": [
        "# Cell 18 - Make Predictions & Recommendations for Sample User"
      ],
      "metadata": {
        "id": "BboUHrDSh6u-"
      }
    },
    {
      "cell_type": "markdown",
      "source": [
        "### Penjelasan Proses:\n",
        "- **User Sampling**: Memilih user secara random untuk testing recommendation system\n",
        "- **Watched History**: Mengidentifikasi anime yang sudah ditonton user untuk filtering\n",
        "- **Candidate Generation**: Membuat list anime yang belum ditonton sebagai kandidat rekomendasi\n",
        "- **Prediction Scoring**: Menggunakan trained model untuk memprediksi rating untuk setiap kandidat\n",
        "- **Top-K Selection**: Mengambil 15 anime dengan predicted rating tertinggi\n"
      ],
      "metadata": {
        "id": "5cM3-ycb2neh"
      }
    },
    {
      "cell_type": "code",
      "source": [
        "# Ambil satu user secara acak\n",
        "# Mengganti merge_df dengan rating_anime yang sudah didefinisikan sebelumnya\n",
        "user_id = rating_anime.user_id.sample(1).iloc[0]\n",
        "anime_watched_by_user = rating_anime[rating_anime.user_id == user_id]\n",
        "\n",
        "# Ambil anime yang belum ditonton oleh user tersebut\n",
        "# Mengganti df_anime dengan anime_df yang sudah didefinisikan sebelumnya\n",
        "anime_not_watched = anime_df[~anime_df['anime_id'].isin(anime_watched_by_user.anime_id.values)]['anime_id']\n",
        "anime_not_watched = list(set(anime_not_watched).intersection(set(anime_to_anime_encoded.keys())))\n",
        "\n",
        "# Bentuk input array\n",
        "anime_not_watched = [[anime_to_anime_encoded.get(x)] for x in anime_not_watched]\n",
        "user_encoder = user_to_user_encoded.get(user_id)\n",
        "user_anime_array = np.hstack(([[user_encoder]] * len(anime_not_watched), anime_not_watched))\n",
        "\n",
        "# Prediksi rating\n",
        "ratings = model.predict(user_anime_array).flatten()\n",
        "\n",
        "# Ambil top 10\n",
        "top_ratings_indices = ratings.argsort()[-15:][::-1]\n",
        "recommended_anime_ids = [anime_encoded_to_anime.get(anime_not_watched[x][0]) for x in top_ratings_indices]\n",
        "\n",
        "# Tampilkan hasil\n",
        "print('📌 Recommendations for user:', user_id)\n",
        "print('='*40)\n",
        "print('🎬 Anime with high ratings from user:')\n",
        "top_anime_user = anime_watched_by_user.sort_values(by='rating', ascending=False).head(10).anime_id.values\n",
        "# Mengganti df_anime dengan anime_df dan 'genre' dengan 'Genres' sesuai nama kolom\n",
        "for row in anime_df[anime_df['anime_id'].isin(top_anime_user)].itertuples():\n",
        "    print('-', row.name, \":\", row.Genres) # Perbaikan: Menggunakan 'Genres'\n",
        "\n",
        "print('\\n🎯 Top 15 Anime Recommendations:')\n",
        "# Mengganti df_anime dengan anime_df dan 'genre' dengan 'Genres' sesuai nama kolom\n",
        "for row in anime_df[anime_df['anime_id'].isin(recommended_anime_ids)].itertuples():\n",
        "    print('-', row.name, \":\", row.Genres) # Perbaikan: Menggunakan 'Genres'"
      ],
      "metadata": {
        "colab": {
          "base_uri": "https://localhost:8080/"
        },
        "id": "RP_FdQ-ph9W-",
        "outputId": "82b47032-d0d0-4fa9-d777-d94021e7fdee"
      },
      "execution_count": 39,
      "outputs": [
        {
          "output_type": "stream",
          "name": "stdout",
          "text": [
            "\u001b[1m254/254\u001b[0m \u001b[32m━━━━━━━━━━━━━━━━━━━━\u001b[0m\u001b[37m\u001b[0m \u001b[1m0s\u001b[0m 1ms/step\n",
            "📌 Recommendations for user: 226500\n",
            "========================================\n",
            "🎬 Anime with high ratings from user:\n",
            "- Inazuma Eleven : Sports, Super Power, Shounen\n",
            "\n",
            "🎯 Top 15 Anime Recommendations:\n",
            "- Hajime no Ippo : Comedy, Sports, Drama, Shounen\n",
            "- Gintama : Action, Comedy, Historical, Parody, Samurai, Sci-Fi, Shounen\n",
            "- Clannad: After Story : Slice of Life, Comedy, Supernatural, Drama, Romance\n",
            "- Fullmetal Alchemist: Brotherhood : Action, Military, Adventure, Comedy, Drama, Magic, Fantasy, Shounen\n",
            "- Suzumiya Haruhi no Shoushitsu : Comedy, Mystery, Romance, School, Sci-Fi, Supernatural\n",
            "- Steins;Gate : Thriller, Sci-Fi\n",
            "- Uchuu Kyoudai : Comedy, Sci-Fi, Seinen, Slice of Life, Space\n",
            "- Gintama Movie 2: Kanketsu-hen - Yorozuya yo Eien Nare : Action, Sci-Fi, Comedy, Historical, Parody, Samurai, Shounen\n",
            "- Haikyuu!! : Comedy, Sports, Drama, School, Shounen\n",
            "- Gintama° : Action, Comedy, Historical, Parody, Samurai, Sci-Fi, Shounen\n",
            "- Ansatsu Kyoushitsu 2nd Season : Action, Comedy, School, Shounen\n",
            "- Kuroko no Basket: Saikou no Present Desu : Action, Sports, School, Shounen\n",
            "- Natsume Yuujinchou Roku : Slice of Life, Demons, Supernatural, Drama, Shoujo\n",
            "- 3-gatsu no Lion 2nd Season : Drama, Game, Seinen, Slice of Life\n",
            "- Owarimonogatari 2nd Season : Mystery, Comedy, Supernatural, Vampire\n"
          ]
        }
      ]
    },
    {
      "cell_type": "markdown",
      "source": [
        "### 🎯 **Rekomendasi Anime untuk User ID: 226500**\n",
        "\n",
        "Model rekomendasi telah digunakan untuk menghasilkan daftar personalisasi berdasarkan **preferensi pengguna**, baik dari **rating historis** maupun kemiripan konten (genre, tema, dsb.).\n",
        "\n",
        "---\n",
        "\n",
        "#### 📌 **Anime Favorit Pengguna (Rating Tinggi)**\n",
        "\n",
        "Pengguna memberikan rating tinggi untuk:\n",
        "\n",
        "* **Inazuma Eleven** — *Genres: Sports, Super Power, Shounen*\n",
        "\n",
        "---\n",
        "\n",
        "#### 📋 **Top 15 Rekomendasi Anime**\n",
        "\n",
        "Berikut adalah anime-anime yang direkomendasikan untuk user **226500**, disusun berdasarkan estimasi skor relevansi tertinggi:\n",
        "\n",
        "| Judul Anime                                               | Genre                                                               |\n",
        "| --------------------------------------------------------- | ------------------------------------------------------------------- |\n",
        "| **Hajime no Ippo**                                        | Comedy, Sports, Drama, Shounen                                      |\n",
        "| **Gintama**                                               | Action, Comedy, Historical, Parody, Samurai, Sci-Fi, Shounen        |\n",
        "| **Clannad: After Story**                                  | Slice of Life, Comedy, Supernatural, Drama, Romance                 |\n",
        "| **Fullmetal Alchemist: Brotherhood**                      | Action, Military, Adventure, Comedy, Drama, Magic, Fantasy, Shounen |\n",
        "| **Suzumiya Haruhi no Shoushitsu**                         | Comedy, Mystery, Romance, School, Sci-Fi, Supernatural              |\n",
        "| **Steins;Gate**                                           | Thriller, Sci-Fi                                                    |\n",
        "| **Uchuu Kyoudai**                                         | Comedy, Sci-Fi, Seinen, Slice of Life, Space                        |\n",
        "| **Gintama Movie 2: Kanketsu-hen - Yorozuya yo Eien Nare** | Action, Sci-Fi, Comedy, Historical, Parody, Samurai, Shounen        |\n",
        "| **Haikyuu!!**                                             | Comedy, Sports, Drama, School, Shounen                              |\n",
        "| **Gintama°**                                              | Action, Comedy, Historical, Parody, Samurai, Sci-Fi, Shounen        |\n",
        "| **Ansatsu Kyoushitsu 2nd Season**                         | Action, Comedy, School, Shounen                                     |\n",
        "| **Kuroko no Basket: Saikou no Present Desu**              | Action, Sports, School, Shounen                                     |\n",
        "| **Natsume Yuujinchou Roku**                               | Slice of Life, Demons, Supernatural, Drama, Shoujo                  |\n",
        "| **3-gatsu no Lion 2nd Season**                            | Drama, Game, Seinen, Slice of Life                                  |\n",
        "| **Owarimonogatari 2nd Season**                            | Mystery, Comedy, Supernatural, Vampire                              |\n",
        "\n",
        "---\n",
        "\n",
        "### 🔍 **Analisis Genre & Kesesuaian**\n",
        "\n",
        "Rekomendasi yang diberikan sangat sesuai dengan minat pengguna:\n",
        "\n",
        "* Genre dominan: **Sports**, **Shounen**, **Comedy**, dan **Drama**\n",
        "* Beberapa judul memperluas cakupan ke genre **Supernatural**, **Sci-Fi**, dan **Slice of Life**, untuk meningkatkan keberagaman tontonan namun masih selaras dengan preferensi utama.\n",
        "\n",
        "---\n",
        "\n",
        "### ✅ **Kesimpulan**\n",
        "\n",
        "Model berhasil memberikan daftar rekomendasi yang **relevan dan bervariasi**, dengan mempertimbangkan:\n",
        "\n",
        "* Riwayat rating pengguna\n",
        "* Kemiripan konten (genre, nuansa cerita, dll.)\n",
        "* Popularitas dan kualitas anime (dalam konteks rating umum)\n",
        "\n"
      ],
      "metadata": {
        "id": "pYjGz1sI2ymb"
      }
    },
    {
      "cell_type": "markdown",
      "source": [
        "# Cell 19 - Precision Evaluation for Content-Based Filtering"
      ],
      "metadata": {
        "id": "2b12A1qciKKN"
      }
    },
    {
      "cell_type": "markdown",
      "source": [
        "### Penjelasan Proses:\n",
        "- **Reference Selection**: Memilih anime \"Bleach\" sebagai referensi untuk testing CBF\n",
        "- **Similarity-Based Matching**: Menggunakan fungsi rekomendasi berbasis genre similarity\n",
        "- **Cross-Method Validation**: Membandingkan hasil CBF dengan collaborative filtering\n",
        "- **Precision Evaluation**: Menganalisis relevansi rekomendasi berdasarkan genre similarity\n"
      ],
      "metadata": {
        "id": "X9VVEU_u3AM8"
      }
    },
    {
      "cell_type": "code",
      "source": [
        "# Referensi: Cowboy Bebop\n",
        "ref_anime = 'Bleach'\n",
        "find_name = df_anime_cbf[df_anime_cbf['Name'] == ref_anime]\n",
        "display(find_name)\n",
        "\n",
        "# Ambil rekomendasi\n",
        "anime_recommendations = AnimeRecommendations(ref_anime)\n",
        "\n",
        "# Tampilkan hasil rekomendasi\n",
        "print(\"\\n📊 Top 10 Content-Based Recommendations for:\", ref_anime)\n",
        "display(anime_recommendations)"
      ],
      "metadata": {
        "colab": {
          "base_uri": "https://localhost:8080/",
          "height": 546
        },
        "id": "Cnc1iBqYiMpd",
        "outputId": "29d41cf5-804d-4137-aa38-2d5e28910777"
      },
      "execution_count": 44,
      "outputs": [
        {
          "output_type": "display_data",
          "data": {
            "text/plain": [
              "     MAL_ID    Name Score                                             Genres  \\\n",
              "245     269  Bleach   7.8  Action, Adventure, Comedy, Super Power, Supern...   \n",
              "\n",
              "    English name    Japanese name Type Episodes                        Aired  \\\n",
              "245       Bleach  BLEACH - ブリーチ -   TV      366  Oct 5, 2004 to Mar 27, 2012   \n",
              "\n",
              "     Premiered  ...  Score-10   Score-9   Score-8   Score-7  Score-6  Score-5  \\\n",
              "245  Fall 2004  ...  116063.0  136177.0  192980.0  174721.0  81327.0  42155.0   \n",
              "\n",
              "     Score-4  Score-3  Score-2  Score-1  \n",
              "245  16961.0   6766.0   3102.0   2906.0  \n",
              "\n",
              "[1 rows x 35 columns]"
            ],
            "text/html": [
              "\n",
              "  <div id=\"df-f3177246-5689-4257-a196-d50280f2943f\" class=\"colab-df-container\">\n",
              "    <div>\n",
              "<style scoped>\n",
              "    .dataframe tbody tr th:only-of-type {\n",
              "        vertical-align: middle;\n",
              "    }\n",
              "\n",
              "    .dataframe tbody tr th {\n",
              "        vertical-align: top;\n",
              "    }\n",
              "\n",
              "    .dataframe thead th {\n",
              "        text-align: right;\n",
              "    }\n",
              "</style>\n",
              "<table border=\"1\" class=\"dataframe\">\n",
              "  <thead>\n",
              "    <tr style=\"text-align: right;\">\n",
              "      <th></th>\n",
              "      <th>MAL_ID</th>\n",
              "      <th>Name</th>\n",
              "      <th>Score</th>\n",
              "      <th>Genres</th>\n",
              "      <th>English name</th>\n",
              "      <th>Japanese name</th>\n",
              "      <th>Type</th>\n",
              "      <th>Episodes</th>\n",
              "      <th>Aired</th>\n",
              "      <th>Premiered</th>\n",
              "      <th>...</th>\n",
              "      <th>Score-10</th>\n",
              "      <th>Score-9</th>\n",
              "      <th>Score-8</th>\n",
              "      <th>Score-7</th>\n",
              "      <th>Score-6</th>\n",
              "      <th>Score-5</th>\n",
              "      <th>Score-4</th>\n",
              "      <th>Score-3</th>\n",
              "      <th>Score-2</th>\n",
              "      <th>Score-1</th>\n",
              "    </tr>\n",
              "  </thead>\n",
              "  <tbody>\n",
              "    <tr>\n",
              "      <th>245</th>\n",
              "      <td>269</td>\n",
              "      <td>Bleach</td>\n",
              "      <td>7.8</td>\n",
              "      <td>Action, Adventure, Comedy, Super Power, Supern...</td>\n",
              "      <td>Bleach</td>\n",
              "      <td>BLEACH - ブリーチ -</td>\n",
              "      <td>TV</td>\n",
              "      <td>366</td>\n",
              "      <td>Oct 5, 2004 to Mar 27, 2012</td>\n",
              "      <td>Fall 2004</td>\n",
              "      <td>...</td>\n",
              "      <td>116063.0</td>\n",
              "      <td>136177.0</td>\n",
              "      <td>192980.0</td>\n",
              "      <td>174721.0</td>\n",
              "      <td>81327.0</td>\n",
              "      <td>42155.0</td>\n",
              "      <td>16961.0</td>\n",
              "      <td>6766.0</td>\n",
              "      <td>3102.0</td>\n",
              "      <td>2906.0</td>\n",
              "    </tr>\n",
              "  </tbody>\n",
              "</table>\n",
              "<p>1 rows × 35 columns</p>\n",
              "</div>\n",
              "    <div class=\"colab-df-buttons\">\n",
              "\n",
              "  <div class=\"colab-df-container\">\n",
              "    <button class=\"colab-df-convert\" onclick=\"convertToInteractive('df-f3177246-5689-4257-a196-d50280f2943f')\"\n",
              "            title=\"Convert this dataframe to an interactive table.\"\n",
              "            style=\"display:none;\">\n",
              "\n",
              "  <svg xmlns=\"http://www.w3.org/2000/svg\" height=\"24px\" viewBox=\"0 -960 960 960\">\n",
              "    <path d=\"M120-120v-720h720v720H120Zm60-500h600v-160H180v160Zm220 220h160v-160H400v160Zm0 220h160v-160H400v160ZM180-400h160v-160H180v160Zm440 0h160v-160H620v160ZM180-180h160v-160H180v160Zm440 0h160v-160H620v160Z\"/>\n",
              "  </svg>\n",
              "    </button>\n",
              "\n",
              "  <style>\n",
              "    .colab-df-container {\n",
              "      display:flex;\n",
              "      gap: 12px;\n",
              "    }\n",
              "\n",
              "    .colab-df-convert {\n",
              "      background-color: #E8F0FE;\n",
              "      border: none;\n",
              "      border-radius: 50%;\n",
              "      cursor: pointer;\n",
              "      display: none;\n",
              "      fill: #1967D2;\n",
              "      height: 32px;\n",
              "      padding: 0 0 0 0;\n",
              "      width: 32px;\n",
              "    }\n",
              "\n",
              "    .colab-df-convert:hover {\n",
              "      background-color: #E2EBFA;\n",
              "      box-shadow: 0px 1px 2px rgba(60, 64, 67, 0.3), 0px 1px 3px 1px rgba(60, 64, 67, 0.15);\n",
              "      fill: #174EA6;\n",
              "    }\n",
              "\n",
              "    .colab-df-buttons div {\n",
              "      margin-bottom: 4px;\n",
              "    }\n",
              "\n",
              "    [theme=dark] .colab-df-convert {\n",
              "      background-color: #3B4455;\n",
              "      fill: #D2E3FC;\n",
              "    }\n",
              "\n",
              "    [theme=dark] .colab-df-convert:hover {\n",
              "      background-color: #434B5C;\n",
              "      box-shadow: 0px 1px 3px 1px rgba(0, 0, 0, 0.15);\n",
              "      filter: drop-shadow(0px 1px 2px rgba(0, 0, 0, 0.3));\n",
              "      fill: #FFFFFF;\n",
              "    }\n",
              "  </style>\n",
              "\n",
              "    <script>\n",
              "      const buttonEl =\n",
              "        document.querySelector('#df-f3177246-5689-4257-a196-d50280f2943f button.colab-df-convert');\n",
              "      buttonEl.style.display =\n",
              "        google.colab.kernel.accessAllowed ? 'block' : 'none';\n",
              "\n",
              "      async function convertToInteractive(key) {\n",
              "        const element = document.querySelector('#df-f3177246-5689-4257-a196-d50280f2943f');\n",
              "        const dataTable =\n",
              "          await google.colab.kernel.invokeFunction('convertToInteractive',\n",
              "                                                    [key], {});\n",
              "        if (!dataTable) return;\n",
              "\n",
              "        const docLinkHtml = 'Like what you see? Visit the ' +\n",
              "          '<a target=\"_blank\" href=https://colab.research.google.com/notebooks/data_table.ipynb>data table notebook</a>'\n",
              "          + ' to learn more about interactive tables.';\n",
              "        element.innerHTML = '';\n",
              "        dataTable['output_type'] = 'display_data';\n",
              "        await google.colab.output.renderOutput(dataTable, element);\n",
              "        const docLink = document.createElement('div');\n",
              "        docLink.innerHTML = docLinkHtml;\n",
              "        element.appendChild(docLink);\n",
              "      }\n",
              "    </script>\n",
              "  </div>\n",
              "\n",
              "\n",
              "  <div id=\"id_f92adfd0-3d7c-4696-aaf8-e3df1e27ef55\">\n",
              "    <style>\n",
              "      .colab-df-generate {\n",
              "        background-color: #E8F0FE;\n",
              "        border: none;\n",
              "        border-radius: 50%;\n",
              "        cursor: pointer;\n",
              "        display: none;\n",
              "        fill: #1967D2;\n",
              "        height: 32px;\n",
              "        padding: 0 0 0 0;\n",
              "        width: 32px;\n",
              "      }\n",
              "\n",
              "      .colab-df-generate:hover {\n",
              "        background-color: #E2EBFA;\n",
              "        box-shadow: 0px 1px 2px rgba(60, 64, 67, 0.3), 0px 1px 3px 1px rgba(60, 64, 67, 0.15);\n",
              "        fill: #174EA6;\n",
              "      }\n",
              "\n",
              "      [theme=dark] .colab-df-generate {\n",
              "        background-color: #3B4455;\n",
              "        fill: #D2E3FC;\n",
              "      }\n",
              "\n",
              "      [theme=dark] .colab-df-generate:hover {\n",
              "        background-color: #434B5C;\n",
              "        box-shadow: 0px 1px 3px 1px rgba(0, 0, 0, 0.15);\n",
              "        filter: drop-shadow(0px 1px 2px rgba(0, 0, 0, 0.3));\n",
              "        fill: #FFFFFF;\n",
              "      }\n",
              "    </style>\n",
              "    <button class=\"colab-df-generate\" onclick=\"generateWithVariable('find_name')\"\n",
              "            title=\"Generate code using this dataframe.\"\n",
              "            style=\"display:none;\">\n",
              "\n",
              "  <svg xmlns=\"http://www.w3.org/2000/svg\" height=\"24px\"viewBox=\"0 0 24 24\"\n",
              "       width=\"24px\">\n",
              "    <path d=\"M7,19H8.4L18.45,9,17,7.55,7,17.6ZM5,21V16.75L18.45,3.32a2,2,0,0,1,2.83,0l1.4,1.43a1.91,1.91,0,0,1,.58,1.4,1.91,1.91,0,0,1-.58,1.4L9.25,21ZM18.45,9,17,7.55Zm-12,3A5.31,5.31,0,0,0,4.9,8.1,5.31,5.31,0,0,0,1,6.5,5.31,5.31,0,0,0,4.9,4.9,5.31,5.31,0,0,0,6.5,1,5.31,5.31,0,0,0,8.1,4.9,5.31,5.31,0,0,0,12,6.5,5.46,5.46,0,0,0,6.5,12Z\"/>\n",
              "  </svg>\n",
              "    </button>\n",
              "    <script>\n",
              "      (() => {\n",
              "      const buttonEl =\n",
              "        document.querySelector('#id_f92adfd0-3d7c-4696-aaf8-e3df1e27ef55 button.colab-df-generate');\n",
              "      buttonEl.style.display =\n",
              "        google.colab.kernel.accessAllowed ? 'block' : 'none';\n",
              "\n",
              "      buttonEl.onclick = () => {\n",
              "        google.colab.notebook.generateWithVariable('find_name');\n",
              "      }\n",
              "      })();\n",
              "    </script>\n",
              "  </div>\n",
              "\n",
              "    </div>\n",
              "  </div>\n"
            ],
            "application/vnd.google.colaboratory.intrinsic+json": {
              "type": "dataframe",
              "variable_name": "find_name"
            }
          },
          "metadata": {}
        },
        {
          "output_type": "stream",
          "name": "stdout",
          "text": [
            "\n",
            "📊 Top 10 Content-Based Recommendations for: Bleach\n"
          ]
        },
        {
          "output_type": "display_data",
          "data": {
            "text/plain": [
              "                                                Name  MAL_ID  \\\n",
              "0                    Bleach: The Sealed Sword Frenzy     834   \n",
              "1                          Bleach: Sennen Kessen-hen   41467   \n",
              "2                 Bleach Movie 1: Memories of Nobody    1686   \n",
              "3                         Bleach Movie 4: Jigoku-hen    8247   \n",
              "4  Bleach Movie 2: The DiamondDust Rebellion - Mo...    2889   \n",
              "5                                        Shaman King     154   \n",
              "6  Bleach Movie 3: Fade to Black - Kimi no Na wo ...    4835   \n",
              "7                                 Shaman King (2021)   42205   \n",
              "8  Zettai Karen Children: The Unlimited - Hyoubu ...   16005   \n",
              "9              Toriko: Barbarian Ivy wo Hokaku Seyo!   11787   \n",
              "\n",
              "                                              Genres  \n",
              "0  Action, Adventure, Comedy, Super Power, Supern...  \n",
              "1  Action, Adventure, Comedy, Super Power, Supern...  \n",
              "2  Action, Adventure, Comedy, Super Power, Supern...  \n",
              "3  Action, Adventure, Comedy, Super Power, Supern...  \n",
              "4  Action, Adventure, Comedy, Super Power, Supern...  \n",
              "5  Action, Adventure, Comedy, Super Power, Supern...  \n",
              "6  Action, Adventure, Comedy, Super Power, Supern...  \n",
              "7  Action, Adventure, Comedy, Super Power, Supern...  \n",
              "8         Action, Super Power, Supernatural, Shounen  \n",
              "9    Action, Super Power, Adventure, Comedy, Shounen  "
            ],
            "text/html": [
              "\n",
              "  <div id=\"df-fa01b4f9-54b3-44ef-b213-6e06c6008eee\" class=\"colab-df-container\">\n",
              "    <div>\n",
              "<style scoped>\n",
              "    .dataframe tbody tr th:only-of-type {\n",
              "        vertical-align: middle;\n",
              "    }\n",
              "\n",
              "    .dataframe tbody tr th {\n",
              "        vertical-align: top;\n",
              "    }\n",
              "\n",
              "    .dataframe thead th {\n",
              "        text-align: right;\n",
              "    }\n",
              "</style>\n",
              "<table border=\"1\" class=\"dataframe\">\n",
              "  <thead>\n",
              "    <tr style=\"text-align: right;\">\n",
              "      <th></th>\n",
              "      <th>Name</th>\n",
              "      <th>MAL_ID</th>\n",
              "      <th>Genres</th>\n",
              "    </tr>\n",
              "  </thead>\n",
              "  <tbody>\n",
              "    <tr>\n",
              "      <th>0</th>\n",
              "      <td>Bleach: The Sealed Sword Frenzy</td>\n",
              "      <td>834</td>\n",
              "      <td>Action, Adventure, Comedy, Super Power, Supern...</td>\n",
              "    </tr>\n",
              "    <tr>\n",
              "      <th>1</th>\n",
              "      <td>Bleach: Sennen Kessen-hen</td>\n",
              "      <td>41467</td>\n",
              "      <td>Action, Adventure, Comedy, Super Power, Supern...</td>\n",
              "    </tr>\n",
              "    <tr>\n",
              "      <th>2</th>\n",
              "      <td>Bleach Movie 1: Memories of Nobody</td>\n",
              "      <td>1686</td>\n",
              "      <td>Action, Adventure, Comedy, Super Power, Supern...</td>\n",
              "    </tr>\n",
              "    <tr>\n",
              "      <th>3</th>\n",
              "      <td>Bleach Movie 4: Jigoku-hen</td>\n",
              "      <td>8247</td>\n",
              "      <td>Action, Adventure, Comedy, Super Power, Supern...</td>\n",
              "    </tr>\n",
              "    <tr>\n",
              "      <th>4</th>\n",
              "      <td>Bleach Movie 2: The DiamondDust Rebellion - Mo...</td>\n",
              "      <td>2889</td>\n",
              "      <td>Action, Adventure, Comedy, Super Power, Supern...</td>\n",
              "    </tr>\n",
              "    <tr>\n",
              "      <th>5</th>\n",
              "      <td>Shaman King</td>\n",
              "      <td>154</td>\n",
              "      <td>Action, Adventure, Comedy, Super Power, Supern...</td>\n",
              "    </tr>\n",
              "    <tr>\n",
              "      <th>6</th>\n",
              "      <td>Bleach Movie 3: Fade to Black - Kimi no Na wo ...</td>\n",
              "      <td>4835</td>\n",
              "      <td>Action, Adventure, Comedy, Super Power, Supern...</td>\n",
              "    </tr>\n",
              "    <tr>\n",
              "      <th>7</th>\n",
              "      <td>Shaman King (2021)</td>\n",
              "      <td>42205</td>\n",
              "      <td>Action, Adventure, Comedy, Super Power, Supern...</td>\n",
              "    </tr>\n",
              "    <tr>\n",
              "      <th>8</th>\n",
              "      <td>Zettai Karen Children: The Unlimited - Hyoubu ...</td>\n",
              "      <td>16005</td>\n",
              "      <td>Action, Super Power, Supernatural, Shounen</td>\n",
              "    </tr>\n",
              "    <tr>\n",
              "      <th>9</th>\n",
              "      <td>Toriko: Barbarian Ivy wo Hokaku Seyo!</td>\n",
              "      <td>11787</td>\n",
              "      <td>Action, Super Power, Adventure, Comedy, Shounen</td>\n",
              "    </tr>\n",
              "  </tbody>\n",
              "</table>\n",
              "</div>\n",
              "    <div class=\"colab-df-buttons\">\n",
              "\n",
              "  <div class=\"colab-df-container\">\n",
              "    <button class=\"colab-df-convert\" onclick=\"convertToInteractive('df-fa01b4f9-54b3-44ef-b213-6e06c6008eee')\"\n",
              "            title=\"Convert this dataframe to an interactive table.\"\n",
              "            style=\"display:none;\">\n",
              "\n",
              "  <svg xmlns=\"http://www.w3.org/2000/svg\" height=\"24px\" viewBox=\"0 -960 960 960\">\n",
              "    <path d=\"M120-120v-720h720v720H120Zm60-500h600v-160H180v160Zm220 220h160v-160H400v160Zm0 220h160v-160H400v160ZM180-400h160v-160H180v160Zm440 0h160v-160H620v160ZM180-180h160v-160H180v160Zm440 0h160v-160H620v160Z\"/>\n",
              "  </svg>\n",
              "    </button>\n",
              "\n",
              "  <style>\n",
              "    .colab-df-container {\n",
              "      display:flex;\n",
              "      gap: 12px;\n",
              "    }\n",
              "\n",
              "    .colab-df-convert {\n",
              "      background-color: #E8F0FE;\n",
              "      border: none;\n",
              "      border-radius: 50%;\n",
              "      cursor: pointer;\n",
              "      display: none;\n",
              "      fill: #1967D2;\n",
              "      height: 32px;\n",
              "      padding: 0 0 0 0;\n",
              "      width: 32px;\n",
              "    }\n",
              "\n",
              "    .colab-df-convert:hover {\n",
              "      background-color: #E2EBFA;\n",
              "      box-shadow: 0px 1px 2px rgba(60, 64, 67, 0.3), 0px 1px 3px 1px rgba(60, 64, 67, 0.15);\n",
              "      fill: #174EA6;\n",
              "    }\n",
              "\n",
              "    .colab-df-buttons div {\n",
              "      margin-bottom: 4px;\n",
              "    }\n",
              "\n",
              "    [theme=dark] .colab-df-convert {\n",
              "      background-color: #3B4455;\n",
              "      fill: #D2E3FC;\n",
              "    }\n",
              "\n",
              "    [theme=dark] .colab-df-convert:hover {\n",
              "      background-color: #434B5C;\n",
              "      box-shadow: 0px 1px 3px 1px rgba(0, 0, 0, 0.15);\n",
              "      filter: drop-shadow(0px 1px 2px rgba(0, 0, 0, 0.3));\n",
              "      fill: #FFFFFF;\n",
              "    }\n",
              "  </style>\n",
              "\n",
              "    <script>\n",
              "      const buttonEl =\n",
              "        document.querySelector('#df-fa01b4f9-54b3-44ef-b213-6e06c6008eee button.colab-df-convert');\n",
              "      buttonEl.style.display =\n",
              "        google.colab.kernel.accessAllowed ? 'block' : 'none';\n",
              "\n",
              "      async function convertToInteractive(key) {\n",
              "        const element = document.querySelector('#df-fa01b4f9-54b3-44ef-b213-6e06c6008eee');\n",
              "        const dataTable =\n",
              "          await google.colab.kernel.invokeFunction('convertToInteractive',\n",
              "                                                    [key], {});\n",
              "        if (!dataTable) return;\n",
              "\n",
              "        const docLinkHtml = 'Like what you see? Visit the ' +\n",
              "          '<a target=\"_blank\" href=https://colab.research.google.com/notebooks/data_table.ipynb>data table notebook</a>'\n",
              "          + ' to learn more about interactive tables.';\n",
              "        element.innerHTML = '';\n",
              "        dataTable['output_type'] = 'display_data';\n",
              "        await google.colab.output.renderOutput(dataTable, element);\n",
              "        const docLink = document.createElement('div');\n",
              "        docLink.innerHTML = docLinkHtml;\n",
              "        element.appendChild(docLink);\n",
              "      }\n",
              "    </script>\n",
              "  </div>\n",
              "\n",
              "\n",
              "    <div id=\"df-3f741d35-f893-43cd-bacb-fe09b9ddfd47\">\n",
              "      <button class=\"colab-df-quickchart\" onclick=\"quickchart('df-3f741d35-f893-43cd-bacb-fe09b9ddfd47')\"\n",
              "                title=\"Suggest charts\"\n",
              "                style=\"display:none;\">\n",
              "\n",
              "<svg xmlns=\"http://www.w3.org/2000/svg\" height=\"24px\"viewBox=\"0 0 24 24\"\n",
              "     width=\"24px\">\n",
              "    <g>\n",
              "        <path d=\"M19 3H5c-1.1 0-2 .9-2 2v14c0 1.1.9 2 2 2h14c1.1 0 2-.9 2-2V5c0-1.1-.9-2-2-2zM9 17H7v-7h2v7zm4 0h-2V7h2v10zm4 0h-2v-4h2v4z\"/>\n",
              "    </g>\n",
              "</svg>\n",
              "      </button>\n",
              "\n",
              "<style>\n",
              "  .colab-df-quickchart {\n",
              "      --bg-color: #E8F0FE;\n",
              "      --fill-color: #1967D2;\n",
              "      --hover-bg-color: #E2EBFA;\n",
              "      --hover-fill-color: #174EA6;\n",
              "      --disabled-fill-color: #AAA;\n",
              "      --disabled-bg-color: #DDD;\n",
              "  }\n",
              "\n",
              "  [theme=dark] .colab-df-quickchart {\n",
              "      --bg-color: #3B4455;\n",
              "      --fill-color: #D2E3FC;\n",
              "      --hover-bg-color: #434B5C;\n",
              "      --hover-fill-color: #FFFFFF;\n",
              "      --disabled-bg-color: #3B4455;\n",
              "      --disabled-fill-color: #666;\n",
              "  }\n",
              "\n",
              "  .colab-df-quickchart {\n",
              "    background-color: var(--bg-color);\n",
              "    border: none;\n",
              "    border-radius: 50%;\n",
              "    cursor: pointer;\n",
              "    display: none;\n",
              "    fill: var(--fill-color);\n",
              "    height: 32px;\n",
              "    padding: 0;\n",
              "    width: 32px;\n",
              "  }\n",
              "\n",
              "  .colab-df-quickchart:hover {\n",
              "    background-color: var(--hover-bg-color);\n",
              "    box-shadow: 0 1px 2px rgba(60, 64, 67, 0.3), 0 1px 3px 1px rgba(60, 64, 67, 0.15);\n",
              "    fill: var(--button-hover-fill-color);\n",
              "  }\n",
              "\n",
              "  .colab-df-quickchart-complete:disabled,\n",
              "  .colab-df-quickchart-complete:disabled:hover {\n",
              "    background-color: var(--disabled-bg-color);\n",
              "    fill: var(--disabled-fill-color);\n",
              "    box-shadow: none;\n",
              "  }\n",
              "\n",
              "  .colab-df-spinner {\n",
              "    border: 2px solid var(--fill-color);\n",
              "    border-color: transparent;\n",
              "    border-bottom-color: var(--fill-color);\n",
              "    animation:\n",
              "      spin 1s steps(1) infinite;\n",
              "  }\n",
              "\n",
              "  @keyframes spin {\n",
              "    0% {\n",
              "      border-color: transparent;\n",
              "      border-bottom-color: var(--fill-color);\n",
              "      border-left-color: var(--fill-color);\n",
              "    }\n",
              "    20% {\n",
              "      border-color: transparent;\n",
              "      border-left-color: var(--fill-color);\n",
              "      border-top-color: var(--fill-color);\n",
              "    }\n",
              "    30% {\n",
              "      border-color: transparent;\n",
              "      border-left-color: var(--fill-color);\n",
              "      border-top-color: var(--fill-color);\n",
              "      border-right-color: var(--fill-color);\n",
              "    }\n",
              "    40% {\n",
              "      border-color: transparent;\n",
              "      border-right-color: var(--fill-color);\n",
              "      border-top-color: var(--fill-color);\n",
              "    }\n",
              "    60% {\n",
              "      border-color: transparent;\n",
              "      border-right-color: var(--fill-color);\n",
              "    }\n",
              "    80% {\n",
              "      border-color: transparent;\n",
              "      border-right-color: var(--fill-color);\n",
              "      border-bottom-color: var(--fill-color);\n",
              "    }\n",
              "    90% {\n",
              "      border-color: transparent;\n",
              "      border-bottom-color: var(--fill-color);\n",
              "    }\n",
              "  }\n",
              "</style>\n",
              "\n",
              "      <script>\n",
              "        async function quickchart(key) {\n",
              "          const quickchartButtonEl =\n",
              "            document.querySelector('#' + key + ' button');\n",
              "          quickchartButtonEl.disabled = true;  // To prevent multiple clicks.\n",
              "          quickchartButtonEl.classList.add('colab-df-spinner');\n",
              "          try {\n",
              "            const charts = await google.colab.kernel.invokeFunction(\n",
              "                'suggestCharts', [key], {});\n",
              "          } catch (error) {\n",
              "            console.error('Error during call to suggestCharts:', error);\n",
              "          }\n",
              "          quickchartButtonEl.classList.remove('colab-df-spinner');\n",
              "          quickchartButtonEl.classList.add('colab-df-quickchart-complete');\n",
              "        }\n",
              "        (() => {\n",
              "          let quickchartButtonEl =\n",
              "            document.querySelector('#df-3f741d35-f893-43cd-bacb-fe09b9ddfd47 button');\n",
              "          quickchartButtonEl.style.display =\n",
              "            google.colab.kernel.accessAllowed ? 'block' : 'none';\n",
              "        })();\n",
              "      </script>\n",
              "    </div>\n",
              "\n",
              "  <div id=\"id_249fdc44-6b45-4ce1-8908-ef694213055f\">\n",
              "    <style>\n",
              "      .colab-df-generate {\n",
              "        background-color: #E8F0FE;\n",
              "        border: none;\n",
              "        border-radius: 50%;\n",
              "        cursor: pointer;\n",
              "        display: none;\n",
              "        fill: #1967D2;\n",
              "        height: 32px;\n",
              "        padding: 0 0 0 0;\n",
              "        width: 32px;\n",
              "      }\n",
              "\n",
              "      .colab-df-generate:hover {\n",
              "        background-color: #E2EBFA;\n",
              "        box-shadow: 0px 1px 2px rgba(60, 64, 67, 0.3), 0px 1px 3px 1px rgba(60, 64, 67, 0.15);\n",
              "        fill: #174EA6;\n",
              "      }\n",
              "\n",
              "      [theme=dark] .colab-df-generate {\n",
              "        background-color: #3B4455;\n",
              "        fill: #D2E3FC;\n",
              "      }\n",
              "\n",
              "      [theme=dark] .colab-df-generate:hover {\n",
              "        background-color: #434B5C;\n",
              "        box-shadow: 0px 1px 3px 1px rgba(0, 0, 0, 0.15);\n",
              "        filter: drop-shadow(0px 1px 2px rgba(0, 0, 0, 0.3));\n",
              "        fill: #FFFFFF;\n",
              "      }\n",
              "    </style>\n",
              "    <button class=\"colab-df-generate\" onclick=\"generateWithVariable('anime_recommendations')\"\n",
              "            title=\"Generate code using this dataframe.\"\n",
              "            style=\"display:none;\">\n",
              "\n",
              "  <svg xmlns=\"http://www.w3.org/2000/svg\" height=\"24px\"viewBox=\"0 0 24 24\"\n",
              "       width=\"24px\">\n",
              "    <path d=\"M7,19H8.4L18.45,9,17,7.55,7,17.6ZM5,21V16.75L18.45,3.32a2,2,0,0,1,2.83,0l1.4,1.43a1.91,1.91,0,0,1,.58,1.4,1.91,1.91,0,0,1-.58,1.4L9.25,21ZM18.45,9,17,7.55Zm-12,3A5.31,5.31,0,0,0,4.9,8.1,5.31,5.31,0,0,0,1,6.5,5.31,5.31,0,0,0,4.9,4.9,5.31,5.31,0,0,0,6.5,1,5.31,5.31,0,0,0,8.1,4.9,5.31,5.31,0,0,0,12,6.5,5.46,5.46,0,0,0,6.5,12Z\"/>\n",
              "  </svg>\n",
              "    </button>\n",
              "    <script>\n",
              "      (() => {\n",
              "      const buttonEl =\n",
              "        document.querySelector('#id_249fdc44-6b45-4ce1-8908-ef694213055f button.colab-df-generate');\n",
              "      buttonEl.style.display =\n",
              "        google.colab.kernel.accessAllowed ? 'block' : 'none';\n",
              "\n",
              "      buttonEl.onclick = () => {\n",
              "        google.colab.notebook.generateWithVariable('anime_recommendations');\n",
              "      }\n",
              "      })();\n",
              "    </script>\n",
              "  </div>\n",
              "\n",
              "    </div>\n",
              "  </div>\n"
            ],
            "application/vnd.google.colaboratory.intrinsic+json": {
              "type": "dataframe",
              "variable_name": "anime_recommendations",
              "summary": "{\n  \"name\": \"anime_recommendations\",\n  \"rows\": 10,\n  \"fields\": [\n    {\n      \"column\": \"Name\",\n      \"properties\": {\n        \"dtype\": \"string\",\n        \"num_unique_values\": 10,\n        \"samples\": [\n          \"Zettai Karen Children: The Unlimited - Hyoubu Kyousuke\",\n          \"Bleach: Sennen Kessen-hen\",\n          \"Shaman King\"\n        ],\n        \"semantic_type\": \"\",\n        \"description\": \"\"\n      }\n    },\n    {\n      \"column\": \"MAL_ID\",\n      \"properties\": {\n        \"dtype\": \"number\",\n        \"std\": 16008,\n        \"min\": 154,\n        \"max\": 42205,\n        \"num_unique_values\": 10,\n        \"samples\": [\n          16005,\n          41467,\n          154\n        ],\n        \"semantic_type\": \"\",\n        \"description\": \"\"\n      }\n    },\n    {\n      \"column\": \"Genres\",\n      \"properties\": {\n        \"dtype\": \"category\",\n        \"num_unique_values\": 3,\n        \"samples\": [\n          \"Action, Adventure, Comedy, Super Power, Supernatural, Shounen\",\n          \"Action, Super Power, Supernatural, Shounen\",\n          \"Action, Super Power, Adventure, Comedy, Shounen\"\n        ],\n        \"semantic_type\": \"\",\n        \"description\": \"\"\n      }\n    }\n  ]\n}"
            }
          },
          "metadata": {}
        }
      ]
    },
    {
      "cell_type": "markdown",
      "source": [
        "\n",
        "### 📊 **Top 10 Rekomendasi Anime Mirip \"Bleach\" (Content-Based Filtering)**\n",
        "\n",
        "Model content-based telah digunakan untuk mencari anime dengan **kemiripan tinggi berdasarkan genre dan atribut konten lainnya**. Anime **Bleach** dipilih sebagai referensi dengan profil sebagai berikut:\n",
        "\n",
        "* **Judul**: Bleach\n",
        "* **MAL ID**: 269\n",
        "* **Skor**: 7.8\n",
        "* **Genre**: Action, Adventure, Comedy, Super Power, Supernatural, Shounen\n",
        "* **Tipe**: TV | **Episode**: 366 | **Tayang**: 2004–2012\n",
        "\n",
        "---\n",
        "\n",
        "#### 🔍 **Top 10 Anime Serupa**\n",
        "\n",
        "| #  | Judul Anime                                                | MAL ID | Genre                                                         |\n",
        "| -- | ---------------------------------------------------------- | ------ | ------------------------------------------------------------- |\n",
        "| 1  | **Bleach: The Sealed Sword Frenzy**                        | 834    | Action, Adventure, Comedy, Super Power, Supernatural, Shounen |\n",
        "| 2  | **Bleach: Sennen Kessen-hen**                              | 41467  | Action, Adventure, Comedy, Super Power, Supernatural, Shounen |\n",
        "| 3  | **Bleach Movie 1: Memories of Nobody**                     | 1686   | Action, Adventure, Comedy, Super Power, Supernatural, Shounen |\n",
        "| 4  | **Bleach Movie 4: Jigoku-hen**                             | 8247   | Action, Adventure, Comedy, Super Power, Supernatural, Shounen |\n",
        "| 5  | **Bleach Movie 2: The DiamondDust Rebellion**              | 2889   | Action, Adventure, Comedy, Super Power, Supernatural, Shounen |\n",
        "| 6  | **Shaman King**                                            | 154    | Action, Adventure, Comedy, Super Power, Supernatural, Shounen |\n",
        "| 7  | **Bleach Movie 3: Fade to Black**                          | 4835   | Action, Adventure, Comedy, Super Power, Supernatural, Shounen |\n",
        "| 8  | **Shaman King (2021)**                                     | 42205  | Action, Adventure, Comedy, Super Power, Supernatural, Shounen |\n",
        "| 9  | **Zettai Karen Children: The Unlimited - Hyoubu Kyousuke** | 16005  | Action, Super Power, Supernatural, Shounen                    |\n",
        "| 10 | **Toriko: Barbarian Ivy wo Hokaku Seyo!**                  | 11787  | Action, Super Power, Adventure, Comedy, Shounen               |\n",
        "\n",
        "---\n",
        "\n",
        "### 📌 **Catatan Penting**\n",
        "\n",
        "* Rekomendasi didominasi oleh waralaba *Bleach* dan anime yang sangat mirip dari sisi genre serta tone cerita (misalnya *Shaman King*).\n",
        "* Genre utama yang berkontribusi terhadap kemiripan: **Action**, **Super Power**, **Supernatural**, dan **Shounen**.\n",
        "* Rekomendasi ini sangat cocok bagi penonton yang menyukai pertarungan antar kekuatan spiritual, cerita petualangan yang intens, serta karakter dengan kekuatan luar biasa.\n",
        "\n",
        "---\n",
        "\n",
        "### ✅ **Kesimpulan**\n",
        "\n",
        "Model content-based berhasil mengidentifikasi judul-judul yang **sangat relevan secara tematik** dengan *Bleach*. Untuk meningkatkan keberagaman rekomendasi di masa depan, pendekatan **hybrid (gabungan content-based dan collaborative filtering)** dapat digunakan agar hasil lebih variatif dan disesuaikan dengan preferensi komunitas pengguna"
      ],
      "metadata": {
        "id": "FlxkaLgV3Ctx"
      }
    }
  ],
  "metadata": {
    "colab": {
      "provenance": [],
      "toc_visible": true
    },
    "kernelspec": {
      "display_name": "Python 3",
      "name": "python3"
    },
    "language_info": {
      "name": "python"
    },
    "accelerator": "GPU"
  },
  "nbformat": 4,
  "nbformat_minor": 0
}